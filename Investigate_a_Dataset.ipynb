{
 "cells": [
  {
   "cell_type": "markdown",
   "metadata": {},
   "source": [
    "# Project: Investigate reasons for no-shows at doctors appointments\n",
    "\n",
    "## Table of Contents\n",
    "<ul>\n",
    "<li><a href=\"#intro\">Introduction</a></li>\n",
    "<li><a href=\"#wrangling\">Data Wrangling</a></li>\n",
    "<li><a href=\"#eda\">Exploratory Data Analysis</a></li>\n",
    "<li><a href=\"#conclusions\">Conclusions</a></li>\n",
    "</ul>"
   ]
  },
  {
   "cell_type": "markdown",
   "metadata": {},
   "source": [
    "<a id='intro'></a>\n",
    "## Introduction"
   ]
  },
  {
   "cell_type": "markdown",
   "metadata": {},
   "source": [
    "This analysis investigates a dataset of around 100k medical appointments in Brazil, looking primarily at if patients show up for appointments or not aka 'No-shows'. The original source of this data set can be found on Kaggle via this link:\n",
    "\n",
    "https://www.kaggle.com/joniarroba/noshowappointments\n",
    "\n",
    "There are a number of features in this dataset we can examine to see if these have any effect on No-Show rates, that might be useful in helping us predict if a particular patient will No-show. \n",
    "\n",
    "Based on certain features of the data set, questions we will seek to answer are the following:\n",
    "\n",
    "1. What are the proportion of no-show appointments?\n",
    "2. Does gender effect no shows?\n",
    "3. Does age effect no shows?\n",
    "4. Does getting an SMS appointment reminder effect no shows?\n",
    "\n",
    "In this analysis 'No-shows' will be the dependant variable, and gender, age and SMS reminders will be independant variables we will examine by themselves and in relation to their effect (if any) on 'No-shows'.\n",
    "\n",
    "Lets import the libs we need for the analysis:"
   ]
  },
  {
   "cell_type": "code",
   "execution_count": 43,
   "metadata": {},
   "outputs": [],
   "source": [
    "import numpy as np\n",
    "import pandas as pd\n",
    "import matplotlib.pyplot as plt\n",
    "import seaborn as sns\n",
    "sns.set_style('darkgrid')\n",
    "% matplotlib inline"
   ]
  },
  {
   "cell_type": "markdown",
   "metadata": {},
   "source": [
    "<a id='wrangling'></a>\n",
    "## Data Wrangling\n",
    "\n",
    "### General Properties"
   ]
  },
  {
   "cell_type": "markdown",
   "metadata": {},
   "source": [
    "Lets load data & print first few rows"
   ]
  },
  {
   "cell_type": "code",
   "execution_count": 44,
   "metadata": {},
   "outputs": [
    {
     "data": {
      "text/html": [
       "<div>\n",
       "<style>\n",
       "    .dataframe thead tr:only-child th {\n",
       "        text-align: right;\n",
       "    }\n",
       "\n",
       "    .dataframe thead th {\n",
       "        text-align: left;\n",
       "    }\n",
       "\n",
       "    .dataframe tbody tr th {\n",
       "        vertical-align: top;\n",
       "    }\n",
       "</style>\n",
       "<table border=\"1\" class=\"dataframe\">\n",
       "  <thead>\n",
       "    <tr style=\"text-align: right;\">\n",
       "      <th></th>\n",
       "      <th>PatientId</th>\n",
       "      <th>AppointmentID</th>\n",
       "      <th>Gender</th>\n",
       "      <th>ScheduledDay</th>\n",
       "      <th>AppointmentDay</th>\n",
       "      <th>Age</th>\n",
       "      <th>Neighbourhood</th>\n",
       "      <th>Scholarship</th>\n",
       "      <th>Hipertension</th>\n",
       "      <th>Diabetes</th>\n",
       "      <th>Alcoholism</th>\n",
       "      <th>Handcap</th>\n",
       "      <th>SMS_received</th>\n",
       "      <th>No-show</th>\n",
       "    </tr>\n",
       "  </thead>\n",
       "  <tbody>\n",
       "    <tr>\n",
       "      <th>0</th>\n",
       "      <td>2.987250e+13</td>\n",
       "      <td>5642903</td>\n",
       "      <td>F</td>\n",
       "      <td>2016-04-29T18:38:08Z</td>\n",
       "      <td>2016-04-29T00:00:00Z</td>\n",
       "      <td>62</td>\n",
       "      <td>JARDIM DA PENHA</td>\n",
       "      <td>0</td>\n",
       "      <td>1</td>\n",
       "      <td>0</td>\n",
       "      <td>0</td>\n",
       "      <td>0</td>\n",
       "      <td>0</td>\n",
       "      <td>No</td>\n",
       "    </tr>\n",
       "    <tr>\n",
       "      <th>1</th>\n",
       "      <td>5.589978e+14</td>\n",
       "      <td>5642503</td>\n",
       "      <td>M</td>\n",
       "      <td>2016-04-29T16:08:27Z</td>\n",
       "      <td>2016-04-29T00:00:00Z</td>\n",
       "      <td>56</td>\n",
       "      <td>JARDIM DA PENHA</td>\n",
       "      <td>0</td>\n",
       "      <td>0</td>\n",
       "      <td>0</td>\n",
       "      <td>0</td>\n",
       "      <td>0</td>\n",
       "      <td>0</td>\n",
       "      <td>No</td>\n",
       "    </tr>\n",
       "    <tr>\n",
       "      <th>2</th>\n",
       "      <td>4.262962e+12</td>\n",
       "      <td>5642549</td>\n",
       "      <td>F</td>\n",
       "      <td>2016-04-29T16:19:04Z</td>\n",
       "      <td>2016-04-29T00:00:00Z</td>\n",
       "      <td>62</td>\n",
       "      <td>MATA DA PRAIA</td>\n",
       "      <td>0</td>\n",
       "      <td>0</td>\n",
       "      <td>0</td>\n",
       "      <td>0</td>\n",
       "      <td>0</td>\n",
       "      <td>0</td>\n",
       "      <td>No</td>\n",
       "    </tr>\n",
       "    <tr>\n",
       "      <th>3</th>\n",
       "      <td>8.679512e+11</td>\n",
       "      <td>5642828</td>\n",
       "      <td>F</td>\n",
       "      <td>2016-04-29T17:29:31Z</td>\n",
       "      <td>2016-04-29T00:00:00Z</td>\n",
       "      <td>8</td>\n",
       "      <td>PONTAL DE CAMBURI</td>\n",
       "      <td>0</td>\n",
       "      <td>0</td>\n",
       "      <td>0</td>\n",
       "      <td>0</td>\n",
       "      <td>0</td>\n",
       "      <td>0</td>\n",
       "      <td>No</td>\n",
       "    </tr>\n",
       "    <tr>\n",
       "      <th>4</th>\n",
       "      <td>8.841186e+12</td>\n",
       "      <td>5642494</td>\n",
       "      <td>F</td>\n",
       "      <td>2016-04-29T16:07:23Z</td>\n",
       "      <td>2016-04-29T00:00:00Z</td>\n",
       "      <td>56</td>\n",
       "      <td>JARDIM DA PENHA</td>\n",
       "      <td>0</td>\n",
       "      <td>1</td>\n",
       "      <td>1</td>\n",
       "      <td>0</td>\n",
       "      <td>0</td>\n",
       "      <td>0</td>\n",
       "      <td>No</td>\n",
       "    </tr>\n",
       "  </tbody>\n",
       "</table>\n",
       "</div>"
      ],
      "text/plain": [
       "      PatientId  AppointmentID Gender          ScheduledDay  \\\n",
       "0  2.987250e+13        5642903      F  2016-04-29T18:38:08Z   \n",
       "1  5.589978e+14        5642503      M  2016-04-29T16:08:27Z   \n",
       "2  4.262962e+12        5642549      F  2016-04-29T16:19:04Z   \n",
       "3  8.679512e+11        5642828      F  2016-04-29T17:29:31Z   \n",
       "4  8.841186e+12        5642494      F  2016-04-29T16:07:23Z   \n",
       "\n",
       "         AppointmentDay  Age      Neighbourhood  Scholarship  Hipertension  \\\n",
       "0  2016-04-29T00:00:00Z   62    JARDIM DA PENHA            0             1   \n",
       "1  2016-04-29T00:00:00Z   56    JARDIM DA PENHA            0             0   \n",
       "2  2016-04-29T00:00:00Z   62      MATA DA PRAIA            0             0   \n",
       "3  2016-04-29T00:00:00Z    8  PONTAL DE CAMBURI            0             0   \n",
       "4  2016-04-29T00:00:00Z   56    JARDIM DA PENHA            0             1   \n",
       "\n",
       "   Diabetes  Alcoholism  Handcap  SMS_received No-show  \n",
       "0         0           0        0             0      No  \n",
       "1         0           0        0             0      No  \n",
       "2         0           0        0             0      No  \n",
       "3         0           0        0             0      No  \n",
       "4         1           0        0             0      No  "
      ]
     },
     "execution_count": 44,
     "metadata": {},
     "output_type": "execute_result"
    }
   ],
   "source": [
    "all_appointments = pd.read_csv('noshowappointments.csv')\n",
    "all_appointments.head()"
   ]
  },
  {
   "cell_type": "markdown",
   "metadata": {},
   "source": [
    "Lets check dataframe dimensions"
   ]
  },
  {
   "cell_type": "code",
   "execution_count": 45,
   "metadata": {},
   "outputs": [
    {
     "data": {
      "text/plain": [
       "(110527, 14)"
      ]
     },
     "execution_count": 45,
     "metadata": {},
     "output_type": "execute_result"
    }
   ],
   "source": [
    "all_appointments.shape"
   ]
  },
  {
   "cell_type": "markdown",
   "metadata": {},
   "source": [
    "Now lets check for data completeness/null values"
   ]
  },
  {
   "cell_type": "code",
   "execution_count": 46,
   "metadata": {},
   "outputs": [
    {
     "name": "stdout",
     "output_type": "stream",
     "text": [
      "<class 'pandas.core.frame.DataFrame'>\n",
      "RangeIndex: 110527 entries, 0 to 110526\n",
      "Data columns (total 14 columns):\n",
      "PatientId         110527 non-null float64\n",
      "AppointmentID     110527 non-null int64\n",
      "Gender            110527 non-null object\n",
      "ScheduledDay      110527 non-null object\n",
      "AppointmentDay    110527 non-null object\n",
      "Age               110527 non-null int64\n",
      "Neighbourhood     110527 non-null object\n",
      "Scholarship       110527 non-null int64\n",
      "Hipertension      110527 non-null int64\n",
      "Diabetes          110527 non-null int64\n",
      "Alcoholism        110527 non-null int64\n",
      "Handcap           110527 non-null int64\n",
      "SMS_received      110527 non-null int64\n",
      "No-show           110527 non-null object\n",
      "dtypes: float64(1), int64(8), object(5)\n",
      "memory usage: 11.8+ MB\n"
     ]
    }
   ],
   "source": [
    "all_appointments.info()"
   ]
  },
  {
   "cell_type": "markdown",
   "metadata": {},
   "source": [
    "Amazing - no null values!\n",
    "\n",
    "However ScheduledDay and AppointmentDay are strings, these might be better as datetime type especially if we use these (I will not be using these in my analysis).\n",
    "\n",
    "Now lets check some key stats"
   ]
  },
  {
   "cell_type": "code",
   "execution_count": 47,
   "metadata": {},
   "outputs": [
    {
     "data": {
      "text/html": [
       "<div>\n",
       "<style>\n",
       "    .dataframe thead tr:only-child th {\n",
       "        text-align: right;\n",
       "    }\n",
       "\n",
       "    .dataframe thead th {\n",
       "        text-align: left;\n",
       "    }\n",
       "\n",
       "    .dataframe tbody tr th {\n",
       "        vertical-align: top;\n",
       "    }\n",
       "</style>\n",
       "<table border=\"1\" class=\"dataframe\">\n",
       "  <thead>\n",
       "    <tr style=\"text-align: right;\">\n",
       "      <th></th>\n",
       "      <th>PatientId</th>\n",
       "      <th>AppointmentID</th>\n",
       "      <th>Gender</th>\n",
       "      <th>ScheduledDay</th>\n",
       "      <th>AppointmentDay</th>\n",
       "      <th>Age</th>\n",
       "      <th>Neighbourhood</th>\n",
       "      <th>Scholarship</th>\n",
       "      <th>Hipertension</th>\n",
       "      <th>Diabetes</th>\n",
       "      <th>Alcoholism</th>\n",
       "      <th>Handcap</th>\n",
       "      <th>SMS_received</th>\n",
       "      <th>No-show</th>\n",
       "    </tr>\n",
       "  </thead>\n",
       "  <tbody>\n",
       "    <tr>\n",
       "      <th>count</th>\n",
       "      <td>1.105270e+05</td>\n",
       "      <td>1.105270e+05</td>\n",
       "      <td>110527</td>\n",
       "      <td>110527</td>\n",
       "      <td>110527</td>\n",
       "      <td>110527.000000</td>\n",
       "      <td>110527</td>\n",
       "      <td>110527.000000</td>\n",
       "      <td>110527.000000</td>\n",
       "      <td>110527.000000</td>\n",
       "      <td>110527.000000</td>\n",
       "      <td>110527.000000</td>\n",
       "      <td>110527.000000</td>\n",
       "      <td>110527</td>\n",
       "    </tr>\n",
       "    <tr>\n",
       "      <th>unique</th>\n",
       "      <td>NaN</td>\n",
       "      <td>NaN</td>\n",
       "      <td>2</td>\n",
       "      <td>103549</td>\n",
       "      <td>27</td>\n",
       "      <td>NaN</td>\n",
       "      <td>81</td>\n",
       "      <td>NaN</td>\n",
       "      <td>NaN</td>\n",
       "      <td>NaN</td>\n",
       "      <td>NaN</td>\n",
       "      <td>NaN</td>\n",
       "      <td>NaN</td>\n",
       "      <td>2</td>\n",
       "    </tr>\n",
       "    <tr>\n",
       "      <th>top</th>\n",
       "      <td>NaN</td>\n",
       "      <td>NaN</td>\n",
       "      <td>F</td>\n",
       "      <td>2016-05-06T07:09:54Z</td>\n",
       "      <td>2016-06-06T00:00:00Z</td>\n",
       "      <td>NaN</td>\n",
       "      <td>JARDIM CAMBURI</td>\n",
       "      <td>NaN</td>\n",
       "      <td>NaN</td>\n",
       "      <td>NaN</td>\n",
       "      <td>NaN</td>\n",
       "      <td>NaN</td>\n",
       "      <td>NaN</td>\n",
       "      <td>No</td>\n",
       "    </tr>\n",
       "    <tr>\n",
       "      <th>freq</th>\n",
       "      <td>NaN</td>\n",
       "      <td>NaN</td>\n",
       "      <td>71840</td>\n",
       "      <td>24</td>\n",
       "      <td>4692</td>\n",
       "      <td>NaN</td>\n",
       "      <td>7717</td>\n",
       "      <td>NaN</td>\n",
       "      <td>NaN</td>\n",
       "      <td>NaN</td>\n",
       "      <td>NaN</td>\n",
       "      <td>NaN</td>\n",
       "      <td>NaN</td>\n",
       "      <td>88208</td>\n",
       "    </tr>\n",
       "    <tr>\n",
       "      <th>mean</th>\n",
       "      <td>1.474963e+14</td>\n",
       "      <td>5.675305e+06</td>\n",
       "      <td>NaN</td>\n",
       "      <td>NaN</td>\n",
       "      <td>NaN</td>\n",
       "      <td>37.088874</td>\n",
       "      <td>NaN</td>\n",
       "      <td>0.098266</td>\n",
       "      <td>0.197246</td>\n",
       "      <td>0.071865</td>\n",
       "      <td>0.030400</td>\n",
       "      <td>0.022248</td>\n",
       "      <td>0.321026</td>\n",
       "      <td>NaN</td>\n",
       "    </tr>\n",
       "    <tr>\n",
       "      <th>std</th>\n",
       "      <td>2.560949e+14</td>\n",
       "      <td>7.129575e+04</td>\n",
       "      <td>NaN</td>\n",
       "      <td>NaN</td>\n",
       "      <td>NaN</td>\n",
       "      <td>23.110205</td>\n",
       "      <td>NaN</td>\n",
       "      <td>0.297675</td>\n",
       "      <td>0.397921</td>\n",
       "      <td>0.258265</td>\n",
       "      <td>0.171686</td>\n",
       "      <td>0.161543</td>\n",
       "      <td>0.466873</td>\n",
       "      <td>NaN</td>\n",
       "    </tr>\n",
       "    <tr>\n",
       "      <th>min</th>\n",
       "      <td>3.921784e+04</td>\n",
       "      <td>5.030230e+06</td>\n",
       "      <td>NaN</td>\n",
       "      <td>NaN</td>\n",
       "      <td>NaN</td>\n",
       "      <td>-1.000000</td>\n",
       "      <td>NaN</td>\n",
       "      <td>0.000000</td>\n",
       "      <td>0.000000</td>\n",
       "      <td>0.000000</td>\n",
       "      <td>0.000000</td>\n",
       "      <td>0.000000</td>\n",
       "      <td>0.000000</td>\n",
       "      <td>NaN</td>\n",
       "    </tr>\n",
       "    <tr>\n",
       "      <th>25%</th>\n",
       "      <td>4.172614e+12</td>\n",
       "      <td>5.640286e+06</td>\n",
       "      <td>NaN</td>\n",
       "      <td>NaN</td>\n",
       "      <td>NaN</td>\n",
       "      <td>18.000000</td>\n",
       "      <td>NaN</td>\n",
       "      <td>0.000000</td>\n",
       "      <td>0.000000</td>\n",
       "      <td>0.000000</td>\n",
       "      <td>0.000000</td>\n",
       "      <td>0.000000</td>\n",
       "      <td>0.000000</td>\n",
       "      <td>NaN</td>\n",
       "    </tr>\n",
       "    <tr>\n",
       "      <th>50%</th>\n",
       "      <td>3.173184e+13</td>\n",
       "      <td>5.680573e+06</td>\n",
       "      <td>NaN</td>\n",
       "      <td>NaN</td>\n",
       "      <td>NaN</td>\n",
       "      <td>37.000000</td>\n",
       "      <td>NaN</td>\n",
       "      <td>0.000000</td>\n",
       "      <td>0.000000</td>\n",
       "      <td>0.000000</td>\n",
       "      <td>0.000000</td>\n",
       "      <td>0.000000</td>\n",
       "      <td>0.000000</td>\n",
       "      <td>NaN</td>\n",
       "    </tr>\n",
       "    <tr>\n",
       "      <th>75%</th>\n",
       "      <td>9.439172e+13</td>\n",
       "      <td>5.725524e+06</td>\n",
       "      <td>NaN</td>\n",
       "      <td>NaN</td>\n",
       "      <td>NaN</td>\n",
       "      <td>55.000000</td>\n",
       "      <td>NaN</td>\n",
       "      <td>0.000000</td>\n",
       "      <td>0.000000</td>\n",
       "      <td>0.000000</td>\n",
       "      <td>0.000000</td>\n",
       "      <td>0.000000</td>\n",
       "      <td>1.000000</td>\n",
       "      <td>NaN</td>\n",
       "    </tr>\n",
       "    <tr>\n",
       "      <th>max</th>\n",
       "      <td>9.999816e+14</td>\n",
       "      <td>5.790484e+06</td>\n",
       "      <td>NaN</td>\n",
       "      <td>NaN</td>\n",
       "      <td>NaN</td>\n",
       "      <td>115.000000</td>\n",
       "      <td>NaN</td>\n",
       "      <td>1.000000</td>\n",
       "      <td>1.000000</td>\n",
       "      <td>1.000000</td>\n",
       "      <td>1.000000</td>\n",
       "      <td>4.000000</td>\n",
       "      <td>1.000000</td>\n",
       "      <td>NaN</td>\n",
       "    </tr>\n",
       "  </tbody>\n",
       "</table>\n",
       "</div>"
      ],
      "text/plain": [
       "           PatientId  AppointmentID  Gender          ScheduledDay  \\\n",
       "count   1.105270e+05   1.105270e+05  110527                110527   \n",
       "unique           NaN            NaN       2                103549   \n",
       "top              NaN            NaN       F  2016-05-06T07:09:54Z   \n",
       "freq             NaN            NaN   71840                    24   \n",
       "mean    1.474963e+14   5.675305e+06     NaN                   NaN   \n",
       "std     2.560949e+14   7.129575e+04     NaN                   NaN   \n",
       "min     3.921784e+04   5.030230e+06     NaN                   NaN   \n",
       "25%     4.172614e+12   5.640286e+06     NaN                   NaN   \n",
       "50%     3.173184e+13   5.680573e+06     NaN                   NaN   \n",
       "75%     9.439172e+13   5.725524e+06     NaN                   NaN   \n",
       "max     9.999816e+14   5.790484e+06     NaN                   NaN   \n",
       "\n",
       "              AppointmentDay            Age   Neighbourhood    Scholarship  \\\n",
       "count                 110527  110527.000000          110527  110527.000000   \n",
       "unique                    27            NaN              81            NaN   \n",
       "top     2016-06-06T00:00:00Z            NaN  JARDIM CAMBURI            NaN   \n",
       "freq                    4692            NaN            7717            NaN   \n",
       "mean                     NaN      37.088874             NaN       0.098266   \n",
       "std                      NaN      23.110205             NaN       0.297675   \n",
       "min                      NaN      -1.000000             NaN       0.000000   \n",
       "25%                      NaN      18.000000             NaN       0.000000   \n",
       "50%                      NaN      37.000000             NaN       0.000000   \n",
       "75%                      NaN      55.000000             NaN       0.000000   \n",
       "max                      NaN     115.000000             NaN       1.000000   \n",
       "\n",
       "         Hipertension       Diabetes     Alcoholism        Handcap  \\\n",
       "count   110527.000000  110527.000000  110527.000000  110527.000000   \n",
       "unique            NaN            NaN            NaN            NaN   \n",
       "top               NaN            NaN            NaN            NaN   \n",
       "freq              NaN            NaN            NaN            NaN   \n",
       "mean         0.197246       0.071865       0.030400       0.022248   \n",
       "std          0.397921       0.258265       0.171686       0.161543   \n",
       "min          0.000000       0.000000       0.000000       0.000000   \n",
       "25%          0.000000       0.000000       0.000000       0.000000   \n",
       "50%          0.000000       0.000000       0.000000       0.000000   \n",
       "75%          0.000000       0.000000       0.000000       0.000000   \n",
       "max          1.000000       1.000000       1.000000       4.000000   \n",
       "\n",
       "         SMS_received No-show  \n",
       "count   110527.000000  110527  \n",
       "unique            NaN       2  \n",
       "top               NaN      No  \n",
       "freq              NaN   88208  \n",
       "mean         0.321026     NaN  \n",
       "std          0.466873     NaN  \n",
       "min          0.000000     NaN  \n",
       "25%          0.000000     NaN  \n",
       "50%          0.000000     NaN  \n",
       "75%          1.000000     NaN  \n",
       "max          1.000000     NaN  "
      ]
     },
     "execution_count": 47,
     "metadata": {},
     "output_type": "execute_result"
    }
   ],
   "source": [
    "all_appointments.describe(include = 'all')"
   ]
  },
  {
   "cell_type": "markdown",
   "metadata": {},
   "source": [
    "Ok so the -1 age looks a bit odd, we will look at age in more detail\n",
    "\n",
    "'Hipertension' and 'Handcap' could well be a mis-spellings, and could be renamed esp if i was uses these in my analysis (I will not be)."
   ]
  },
  {
   "cell_type": "code",
   "execution_count": 48,
   "metadata": {},
   "outputs": [
    {
     "data": {
      "text/plain": [
       "0"
      ]
     },
     "execution_count": 48,
     "metadata": {},
     "output_type": "execute_result"
    }
   ],
   "source": [
    "# Check for duplicates\n",
    "sum(all_appointments.duplicated())"
   ]
  },
  {
   "cell_type": "markdown",
   "metadata": {},
   "source": [
    "Ok no duplicates."
   ]
  },
  {
   "cell_type": "markdown",
   "metadata": {},
   "source": [
    "### Checking unique values\n",
    "\n",
    "Lets see what the unique values are for key columns.. starting with Gender:"
   ]
  },
  {
   "cell_type": "code",
   "execution_count": 49,
   "metadata": {},
   "outputs": [
    {
     "data": {
      "text/plain": [
       "array(['F', 'M'], dtype=object)"
      ]
     },
     "execution_count": 49,
     "metadata": {},
     "output_type": "execute_result"
    }
   ],
   "source": [
    "all_appointments.Gender.unique()"
   ]
  },
  {
   "cell_type": "markdown",
   "metadata": {},
   "source": [
    "Ok that seems reasonable.\n",
    "\n",
    "How about age"
   ]
  },
  {
   "cell_type": "code",
   "execution_count": 50,
   "metadata": {},
   "outputs": [
    {
     "data": {
      "text/plain": [
       "array([ 62,  56,   8,  76,  23,  39,  21,  19,  30,  29,  22,  28,  54,\n",
       "        15,  50,  40,  46,   4,  13,  65,  45,  51,  32,  12,  61,  38,\n",
       "        79,  18,  63,  64,  85,  59,  55,  71,  49,  78,  31,  58,  27,\n",
       "         6,   2,  11,   7,   0,   3,   1,  69,  68,  60,  67,  36,  10,\n",
       "        35,  20,  26,  34,  33,  16,  42,   5,  47,  17,  41,  44,  37,\n",
       "        24,  66,  77,  81,  70,  53,  75,  73,  52,  74,  43,  89,  57,\n",
       "        14,   9,  48,  83,  72,  25,  80,  87,  88,  84,  82,  90,  94,\n",
       "        86,  91,  98,  92,  96,  93,  95,  97, 102, 115, 100,  99,  -1])"
      ]
     },
     "execution_count": 50,
     "metadata": {},
     "output_type": "execute_result"
    }
   ],
   "source": [
    "all_appointments.Age.unique()"
   ]
  },
  {
   "cell_type": "markdown",
   "metadata": {},
   "source": [
    "Ok at the edges we have -1 which seems like an error, 0 could be a baby, and 115 at the other end is possible in the human lifespan.\n",
    "\n",
    "So lets look to remove the -1 age in cleaning and assume the rest is correct.\n",
    "\n",
    "Lets now look at the values for 'Neighbourhood':"
   ]
  },
  {
   "cell_type": "code",
   "execution_count": 51,
   "metadata": {},
   "outputs": [
    {
     "data": {
      "text/plain": [
       "array(['JARDIM DA PENHA', 'MATA DA PRAIA', 'PONTAL DE CAMBURI',\n",
       "       'REPÚBLICA', 'GOIABEIRAS', 'ANDORINHAS', 'CONQUISTA',\n",
       "       'NOVA PALESTINA', 'DA PENHA', 'TABUAZEIRO', 'BENTO FERREIRA',\n",
       "       'SÃO PEDRO', 'SANTA MARTHA', 'SÃO CRISTÓVÃO', 'MARUÍPE',\n",
       "       'GRANDE VITÓRIA', 'SÃO BENEDITO', 'ILHA DAS CAIEIRAS',\n",
       "       'SANTO ANDRÉ', 'SOLON BORGES', 'BONFIM', 'JARDIM CAMBURI',\n",
       "       'MARIA ORTIZ', 'JABOUR', 'ANTÔNIO HONÓRIO', 'RESISTÊNCIA',\n",
       "       'ILHA DE SANTA MARIA', 'JUCUTUQUARA', 'MONTE BELO',\n",
       "       'MÁRIO CYPRESTE', 'SANTO ANTÔNIO', 'BELA VISTA', 'PRAIA DO SUÁ',\n",
       "       'SANTA HELENA', 'ITARARÉ', 'INHANGUETÁ', 'UNIVERSITÁRIO',\n",
       "       'SÃO JOSÉ', 'REDENÇÃO', 'SANTA CLARA', 'CENTRO', 'PARQUE MOSCOSO',\n",
       "       'DO MOSCOSO', 'SANTOS DUMONT', 'CARATOÍRA', 'ARIOVALDO FAVALESSA',\n",
       "       'ILHA DO FRADE', 'GURIGICA', 'JOANA D´ARC', 'CONSOLAÇÃO',\n",
       "       'PRAIA DO CANTO', 'BOA VISTA', 'MORADA DE CAMBURI', 'SANTA LUÍZA',\n",
       "       'SANTA LÚCIA', 'BARRO VERMELHO', 'ESTRELINHA', 'FORTE SÃO JOÃO',\n",
       "       'FONTE GRANDE', 'ENSEADA DO SUÁ', 'SANTOS REIS', 'PIEDADE',\n",
       "       'JESUS DE NAZARETH', 'SANTA TEREZA', 'CRUZAMENTO',\n",
       "       'ILHA DO PRÍNCIPE', 'ROMÃO', 'COMDUSA', 'SANTA CECÍLIA',\n",
       "       'VILA RUBIM', 'DE LOURDES', 'DO QUADRO', 'DO CABRAL', 'HORTO',\n",
       "       'SEGURANÇA DO LAR', 'ILHA DO BOI', 'FRADINHOS', 'NAZARETH',\n",
       "       'AEROPORTO', 'ILHAS OCEÂNICAS DE TRINDADE', 'PARQUE INDUSTRIAL'], dtype=object)"
      ]
     },
     "execution_count": 51,
     "metadata": {},
     "output_type": "execute_result"
    }
   ],
   "source": [
    "all_appointments.Neighbourhood.unique()"
   ]
  },
  {
   "cell_type": "markdown",
   "metadata": {},
   "source": [
    "These seem like reasonable names for Neighbourhoods.\n",
    "\n",
    "For the rest of the fields I am expecting binary values of one kind or another:"
   ]
  },
  {
   "cell_type": "code",
   "execution_count": 52,
   "metadata": {},
   "outputs": [
    {
     "name": "stdout",
     "output_type": "stream",
     "text": [
      "[0 1]\n",
      "[1 0]\n",
      "[0 1]\n",
      "[0 1]\n",
      "[0 1 2 3 4]\n",
      "[0 1]\n",
      "['No' 'Yes']\n"
     ]
    }
   ],
   "source": [
    "print(all_appointments.Scholarship.unique())\n",
    "print(all_appointments.Hipertension.unique())\n",
    "print(all_appointments.Diabetes.unique())\n",
    "print(all_appointments.Alcoholism.unique())\n",
    "print(all_appointments.Handcap.unique())\n",
    "print(all_appointments.SMS_received.unique())\n",
    "print(all_appointments['No-show'].unique())"
   ]
  },
  {
   "cell_type": "markdown",
   "metadata": {},
   "source": [
    "Ok so thats odd for 'Handcap' according to the overview notes in Kaggle this should be True or False - but the values are from 0-5.\n",
    "\n",
    "https://www.kaggle.com/joniarroba/noshowappointments/home\n",
    "\n",
    "##### To investigate this further we would need to query the origins of the data source further, but for this analysis we will ignore this field due to the unresolved questions about the data in this field."
   ]
  },
  {
   "cell_type": "markdown",
   "metadata": {},
   "source": [
    "### Data Cleaning "
   ]
  },
  {
   "cell_type": "markdown",
   "metadata": {},
   "source": [
    "Ok so lets Lower case & underscore column names"
   ]
  },
  {
   "cell_type": "code",
   "execution_count": 53,
   "metadata": {},
   "outputs": [],
   "source": [
    "all_appointments.rename(columns=lambda x: x.strip().lower().replace(\" \", \"_\"), inplace=True)"
   ]
  },
  {
   "cell_type": "markdown",
   "metadata": {},
   "source": [
    "And lets remove the negative age/s"
   ]
  },
  {
   "cell_type": "code",
   "execution_count": 54,
   "metadata": {},
   "outputs": [
    {
     "data": {
      "text/html": [
       "<div>\n",
       "<style>\n",
       "    .dataframe thead tr:only-child th {\n",
       "        text-align: right;\n",
       "    }\n",
       "\n",
       "    .dataframe thead th {\n",
       "        text-align: left;\n",
       "    }\n",
       "\n",
       "    .dataframe tbody tr th {\n",
       "        vertical-align: top;\n",
       "    }\n",
       "</style>\n",
       "<table border=\"1\" class=\"dataframe\">\n",
       "  <thead>\n",
       "    <tr style=\"text-align: right;\">\n",
       "      <th></th>\n",
       "      <th>patientid</th>\n",
       "      <th>appointmentid</th>\n",
       "      <th>gender</th>\n",
       "      <th>scheduledday</th>\n",
       "      <th>appointmentday</th>\n",
       "      <th>age</th>\n",
       "      <th>neighbourhood</th>\n",
       "      <th>scholarship</th>\n",
       "      <th>hipertension</th>\n",
       "      <th>diabetes</th>\n",
       "      <th>alcoholism</th>\n",
       "      <th>handcap</th>\n",
       "      <th>sms_received</th>\n",
       "      <th>no-show</th>\n",
       "    </tr>\n",
       "  </thead>\n",
       "  <tbody>\n",
       "    <tr>\n",
       "      <th>count</th>\n",
       "      <td>1.069870e+05</td>\n",
       "      <td>1.069870e+05</td>\n",
       "      <td>106987</td>\n",
       "      <td>106987</td>\n",
       "      <td>106987</td>\n",
       "      <td>106987.000000</td>\n",
       "      <td>106987</td>\n",
       "      <td>106987.000000</td>\n",
       "      <td>106987.000000</td>\n",
       "      <td>106987.000000</td>\n",
       "      <td>106987.000000</td>\n",
       "      <td>106987.000000</td>\n",
       "      <td>106987.000000</td>\n",
       "      <td>106987</td>\n",
       "    </tr>\n",
       "    <tr>\n",
       "      <th>unique</th>\n",
       "      <td>NaN</td>\n",
       "      <td>NaN</td>\n",
       "      <td>2</td>\n",
       "      <td>100307</td>\n",
       "      <td>27</td>\n",
       "      <td>NaN</td>\n",
       "      <td>81</td>\n",
       "      <td>NaN</td>\n",
       "      <td>NaN</td>\n",
       "      <td>NaN</td>\n",
       "      <td>NaN</td>\n",
       "      <td>NaN</td>\n",
       "      <td>NaN</td>\n",
       "      <td>2</td>\n",
       "    </tr>\n",
       "    <tr>\n",
       "      <th>top</th>\n",
       "      <td>NaN</td>\n",
       "      <td>NaN</td>\n",
       "      <td>F</td>\n",
       "      <td>2016-05-06T07:09:54Z</td>\n",
       "      <td>2016-06-06T00:00:00Z</td>\n",
       "      <td>NaN</td>\n",
       "      <td>JARDIM CAMBURI</td>\n",
       "      <td>NaN</td>\n",
       "      <td>NaN</td>\n",
       "      <td>NaN</td>\n",
       "      <td>NaN</td>\n",
       "      <td>NaN</td>\n",
       "      <td>NaN</td>\n",
       "      <td>No</td>\n",
       "    </tr>\n",
       "    <tr>\n",
       "      <th>freq</th>\n",
       "      <td>NaN</td>\n",
       "      <td>NaN</td>\n",
       "      <td>70118</td>\n",
       "      <td>24</td>\n",
       "      <td>4528</td>\n",
       "      <td>NaN</td>\n",
       "      <td>7586</td>\n",
       "      <td>NaN</td>\n",
       "      <td>NaN</td>\n",
       "      <td>NaN</td>\n",
       "      <td>NaN</td>\n",
       "      <td>NaN</td>\n",
       "      <td>NaN</td>\n",
       "      <td>85307</td>\n",
       "    </tr>\n",
       "    <tr>\n",
       "      <th>mean</th>\n",
       "      <td>1.472814e+14</td>\n",
       "      <td>5.675434e+06</td>\n",
       "      <td>NaN</td>\n",
       "      <td>NaN</td>\n",
       "      <td>NaN</td>\n",
       "      <td>38.316085</td>\n",
       "      <td>NaN</td>\n",
       "      <td>0.101031</td>\n",
       "      <td>0.203772</td>\n",
       "      <td>0.074243</td>\n",
       "      <td>0.031406</td>\n",
       "      <td>0.022975</td>\n",
       "      <td>0.323264</td>\n",
       "      <td>NaN</td>\n",
       "    </tr>\n",
       "    <tr>\n",
       "      <th>std</th>\n",
       "      <td>2.558267e+14</td>\n",
       "      <td>7.133274e+04</td>\n",
       "      <td>NaN</td>\n",
       "      <td>NaN</td>\n",
       "      <td>NaN</td>\n",
       "      <td>22.466214</td>\n",
       "      <td>NaN</td>\n",
       "      <td>0.301371</td>\n",
       "      <td>0.402804</td>\n",
       "      <td>0.262167</td>\n",
       "      <td>0.174412</td>\n",
       "      <td>0.164115</td>\n",
       "      <td>0.467725</td>\n",
       "      <td>NaN</td>\n",
       "    </tr>\n",
       "    <tr>\n",
       "      <th>min</th>\n",
       "      <td>3.921784e+04</td>\n",
       "      <td>5.030230e+06</td>\n",
       "      <td>NaN</td>\n",
       "      <td>NaN</td>\n",
       "      <td>NaN</td>\n",
       "      <td>1.000000</td>\n",
       "      <td>NaN</td>\n",
       "      <td>0.000000</td>\n",
       "      <td>0.000000</td>\n",
       "      <td>0.000000</td>\n",
       "      <td>0.000000</td>\n",
       "      <td>0.000000</td>\n",
       "      <td>0.000000</td>\n",
       "      <td>NaN</td>\n",
       "    </tr>\n",
       "    <tr>\n",
       "      <th>25%</th>\n",
       "      <td>4.173523e+12</td>\n",
       "      <td>5.640490e+06</td>\n",
       "      <td>NaN</td>\n",
       "      <td>NaN</td>\n",
       "      <td>NaN</td>\n",
       "      <td>19.000000</td>\n",
       "      <td>NaN</td>\n",
       "      <td>0.000000</td>\n",
       "      <td>0.000000</td>\n",
       "      <td>0.000000</td>\n",
       "      <td>0.000000</td>\n",
       "      <td>0.000000</td>\n",
       "      <td>0.000000</td>\n",
       "      <td>NaN</td>\n",
       "    </tr>\n",
       "    <tr>\n",
       "      <th>50%</th>\n",
       "      <td>3.172463e+13</td>\n",
       "      <td>5.680744e+06</td>\n",
       "      <td>NaN</td>\n",
       "      <td>NaN</td>\n",
       "      <td>NaN</td>\n",
       "      <td>38.000000</td>\n",
       "      <td>NaN</td>\n",
       "      <td>0.000000</td>\n",
       "      <td>0.000000</td>\n",
       "      <td>0.000000</td>\n",
       "      <td>0.000000</td>\n",
       "      <td>0.000000</td>\n",
       "      <td>0.000000</td>\n",
       "      <td>NaN</td>\n",
       "    </tr>\n",
       "    <tr>\n",
       "      <th>75%</th>\n",
       "      <td>9.433600e+13</td>\n",
       "      <td>5.725634e+06</td>\n",
       "      <td>NaN</td>\n",
       "      <td>NaN</td>\n",
       "      <td>NaN</td>\n",
       "      <td>56.000000</td>\n",
       "      <td>NaN</td>\n",
       "      <td>0.000000</td>\n",
       "      <td>0.000000</td>\n",
       "      <td>0.000000</td>\n",
       "      <td>0.000000</td>\n",
       "      <td>0.000000</td>\n",
       "      <td>1.000000</td>\n",
       "      <td>NaN</td>\n",
       "    </tr>\n",
       "    <tr>\n",
       "      <th>max</th>\n",
       "      <td>9.999816e+14</td>\n",
       "      <td>5.790484e+06</td>\n",
       "      <td>NaN</td>\n",
       "      <td>NaN</td>\n",
       "      <td>NaN</td>\n",
       "      <td>115.000000</td>\n",
       "      <td>NaN</td>\n",
       "      <td>1.000000</td>\n",
       "      <td>1.000000</td>\n",
       "      <td>1.000000</td>\n",
       "      <td>1.000000</td>\n",
       "      <td>4.000000</td>\n",
       "      <td>1.000000</td>\n",
       "      <td>NaN</td>\n",
       "    </tr>\n",
       "  </tbody>\n",
       "</table>\n",
       "</div>"
      ],
      "text/plain": [
       "           patientid  appointmentid  gender          scheduledday  \\\n",
       "count   1.069870e+05   1.069870e+05  106987                106987   \n",
       "unique           NaN            NaN       2                100307   \n",
       "top              NaN            NaN       F  2016-05-06T07:09:54Z   \n",
       "freq             NaN            NaN   70118                    24   \n",
       "mean    1.472814e+14   5.675434e+06     NaN                   NaN   \n",
       "std     2.558267e+14   7.133274e+04     NaN                   NaN   \n",
       "min     3.921784e+04   5.030230e+06     NaN                   NaN   \n",
       "25%     4.173523e+12   5.640490e+06     NaN                   NaN   \n",
       "50%     3.172463e+13   5.680744e+06     NaN                   NaN   \n",
       "75%     9.433600e+13   5.725634e+06     NaN                   NaN   \n",
       "max     9.999816e+14   5.790484e+06     NaN                   NaN   \n",
       "\n",
       "              appointmentday            age   neighbourhood    scholarship  \\\n",
       "count                 106987  106987.000000          106987  106987.000000   \n",
       "unique                    27            NaN              81            NaN   \n",
       "top     2016-06-06T00:00:00Z            NaN  JARDIM CAMBURI            NaN   \n",
       "freq                    4528            NaN            7586            NaN   \n",
       "mean                     NaN      38.316085             NaN       0.101031   \n",
       "std                      NaN      22.466214             NaN       0.301371   \n",
       "min                      NaN       1.000000             NaN       0.000000   \n",
       "25%                      NaN      19.000000             NaN       0.000000   \n",
       "50%                      NaN      38.000000             NaN       0.000000   \n",
       "75%                      NaN      56.000000             NaN       0.000000   \n",
       "max                      NaN     115.000000             NaN       1.000000   \n",
       "\n",
       "         hipertension       diabetes     alcoholism        handcap  \\\n",
       "count   106987.000000  106987.000000  106987.000000  106987.000000   \n",
       "unique            NaN            NaN            NaN            NaN   \n",
       "top               NaN            NaN            NaN            NaN   \n",
       "freq              NaN            NaN            NaN            NaN   \n",
       "mean         0.203772       0.074243       0.031406       0.022975   \n",
       "std          0.402804       0.262167       0.174412       0.164115   \n",
       "min          0.000000       0.000000       0.000000       0.000000   \n",
       "25%          0.000000       0.000000       0.000000       0.000000   \n",
       "50%          0.000000       0.000000       0.000000       0.000000   \n",
       "75%          0.000000       0.000000       0.000000       0.000000   \n",
       "max          1.000000       1.000000       1.000000       4.000000   \n",
       "\n",
       "         sms_received no-show  \n",
       "count   106987.000000  106987  \n",
       "unique            NaN       2  \n",
       "top               NaN      No  \n",
       "freq              NaN   85307  \n",
       "mean         0.323264     NaN  \n",
       "std          0.467725     NaN  \n",
       "min          0.000000     NaN  \n",
       "25%          0.000000     NaN  \n",
       "50%          0.000000     NaN  \n",
       "75%          1.000000     NaN  \n",
       "max          1.000000     NaN  "
      ]
     },
     "execution_count": 54,
     "metadata": {},
     "output_type": "execute_result"
    }
   ],
   "source": [
    "all_appointments = all_appointments[all_appointments.age > 0]\n",
    "all_appointments.describe(include = 'all')"
   ]
  },
  {
   "cell_type": "markdown",
   "metadata": {},
   "source": [
    "Ok the data looks good now and is ready for the analysis."
   ]
  },
  {
   "cell_type": "markdown",
   "metadata": {},
   "source": [
    "<a id='eda'></a>\n",
    "## Exploratory Data Analysis"
   ]
  },
  {
   "cell_type": "markdown",
   "metadata": {},
   "source": [
    "### Research Question 1 - What are the proportion of no-show appointments?"
   ]
  },
  {
   "cell_type": "markdown",
   "metadata": {},
   "source": [
    "So before we look at our independant variables, lets look at our key dependant variable by itself - the no-shows.\n",
    "\n",
    "Firstly, lets save the total number of appointments as a variable"
   ]
  },
  {
   "cell_type": "code",
   "execution_count": 55,
   "metadata": {},
   "outputs": [
    {
     "name": "stdout",
     "output_type": "stream",
     "text": [
      "106987\n"
     ]
    }
   ],
   "source": [
    "all_appointments_total = all_appointments.shape[0]\n",
    "print(all_appointments_total)"
   ]
  },
  {
   "cell_type": "markdown",
   "metadata": {},
   "source": [
    "Now lets filter out the no show appointments and get their total"
   ]
  },
  {
   "cell_type": "code",
   "execution_count": 56,
   "metadata": {},
   "outputs": [
    {
     "name": "stdout",
     "output_type": "stream",
     "text": [
      "21680\n"
     ]
    }
   ],
   "source": [
    "no_shows = all_appointments[all_appointments['no-show'] == 'Yes']\n",
    "no_shows_total = no_shows.shape[0]\n",
    "print(no_shows_total)"
   ]
  },
  {
   "cell_type": "markdown",
   "metadata": {},
   "source": [
    "Now lets filter out the shows appointments and get their total"
   ]
  },
  {
   "cell_type": "code",
   "execution_count": 57,
   "metadata": {},
   "outputs": [
    {
     "name": "stdout",
     "output_type": "stream",
     "text": [
      "85307\n"
     ]
    }
   ],
   "source": [
    "shows = all_appointments[all_appointments['no-show'] == 'No']\n",
    "shows_total = shows.shape[0]\n",
    "print(shows_total)"
   ]
  },
  {
   "cell_type": "markdown",
   "metadata": {},
   "source": [
    "Now lets compare the proportion of shows to no-shows as a percentage"
   ]
  },
  {
   "cell_type": "code",
   "execution_count": 58,
   "metadata": {},
   "outputs": [
    {
     "name": "stdout",
     "output_type": "stream",
     "text": [
      "20.26414424182377\n",
      "79.73585575817623\n"
     ]
    }
   ],
   "source": [
    "no_shows_percentage = (no_shows_total / all_appointments_total) * 100\n",
    "shows_percentage = (shows_total / all_appointments_total) * 100\n",
    "print(no_shows_percentage)\n",
    "print(shows_percentage)"
   ]
  },
  {
   "cell_type": "markdown",
   "metadata": {},
   "source": [
    "Lets see the comparison as a pie chart:"
   ]
  },
  {
   "cell_type": "code",
   "execution_count": 59,
   "metadata": {},
   "outputs": [
    {
     "data": {
      "image/png": "iVBORw0KGgoAAAANSUhEUgAAAV0AAAD3CAYAAAC+eIeLAAAABHNCSVQICAgIfAhkiAAAAAlwSFlzAAALEgAACxIB0t1+/AAAADl0RVh0U29mdHdhcmUAbWF0cGxvdGxpYiB2ZXJzaW9uIDIuMS4wLCBodHRwOi8vbWF0cGxvdGxpYi5vcmcvpW3flQAAIABJREFUeJzt3Xl4VNX9x/H3TDJZyAYhbGFfDwREAuKuwarY2Ljvu1XbamttVdRU2x+d2iparfsKKojirggDUURlWMJOQGDgsIY1QAjJkD2z/f44NxpxEgIkczPJeT1PniQz9858ZvvOuefee44lEAigaZqmhYbV7ACapmltiS66mqZpIaSLrqZpWgjpoqtpmhZCuuhqmqaFkC66mqZpIaSLbisjhLAIId4RQhQLIZYd47oBIcSA5soWzoQQtwshFpqdIxSEEDlCiNvMztFaRZodIBghRD7QBfAB5cBs4M9SyjITY/2MkfEuKeVck6Mc6WzgQqCHlLLc7DBa+JFSZjZ2WSHEPOA9KeWk5ktU732PMe67R6jv+0S05JbuJVLKeGAkMBr4+7HegBCiRX6pNLPeQL4uuJrWMrX4oiSl3COEyAGGAQghkoD/ARcDfuAdYLyU0ieEuB34HbAMuA14Ffi7EOJ3wANAD2AXcLOUcpUQIhV4CTgXKAOek1K+aNzPP4E0oAq4AtgJ3CalXCGEmAr0AmYKIXzAv6SUTwshPgHOAWKBNcA9Usr1xu11BCYDGYAEvgbGSCnPNq4fbGQZBRQC/5BSfhzsOTFyv45q1R4CnpJSThRC3Am8AtiEEGXAs1LK8UesOwB4CxgBeIBvpZTX1VnkAuP5TgGmAfdKKQNCCCvwqPH8xgJfobY+3EKIKcAPUspnhRDdgd3An6SUrxr3twzoaPxMNnL7gfVAhpTSf0TG14EyKeW4Opd9CTillP8L8nwEgHuAB48ldz3P7e3A/wGdgIPA36WU79e5/hngTqAE+KOUMucor0kMUAz0lFIeFEL8HfgnkCylPCyE+DcQL6X8a5AsvwUeRr1vC43bfMO4bgzwHuo9/gDq/ftYbVYhxGTUe7c/cDqwCrhVSrnDuP5M4AVgELAJ+IuUMte4bh5G69V4Pu4Clhz5uIUQ/0G9308XQjwPTJZS3mu8Hn8C7ge6As+jXvf3gKHGa3CzlLLGuL8s4N9AH8AF3C2l/MG4Lh94GbgV1aD4CvXZjgBygGjjvY7xWHoYz8kgoBJ4X0r5wJHPrZlacksXACFET1SBzTMumgJ4gQFAOjAW9aaodRqwDegM/EcIcQ3qTX4rkAhcChQZH8aZqOLYHTgf+KsQ4qI6t3Up8CHQHpiBevGRUt6CKsKXSCnjpZRPG8vnAAON+14FvF/ntl5BdZV0Rb1pfuwzE0LEAd+gikVn4AbgVSHE0Hqelg9QhS0VuBp4QghxvpTyLeBuYLGRa3yQdR8H5gAdUG/Ql464Pgu1ZXEycC1Q+3zcbvycB/QD4mufD8AJjDH+zkA9/xnG/+cCC6SUAVRR3I0qaF1QxTDYeejTgOuEEBbj+emAep0/rOf5ON7cP2O8Di8CmVLKBOBMYHWdRU5DfWGmAE8Db9VmpP7XpApYfsTzsQM4q87/znoe0wHjcSUCvwWeE0KMrHN9VyNLd9T76U0hhKhz/U2o1zvFeBy1BTkZmGU81o6oRswso2EQTNDHLaV8DFiA+oKLl1LeW2edX6MaEKejvjjeNPL0RDWgbjCyjATeBv5gZHkDmCGEiK5zW9cat9cXGA7cbmzJZQJ7jfuOl1LuRX2RvCClTER94QRtuJipJbd0pwshvIAb9QZ5QgjRBfVEt5dSVgLlQojngN+jXixQL0JtIfEKIe4CnpZSLjcu2wIghDgN6CSl/Jdx+TYhxETgelQrFGChlHK2sfxU4BetkbqklG/X/m20lIuNlnkZcBUwTEpZAbiM1uEYY/EsVJfAO8b/q4QQn6E+vOvr3ofxJXQ2kGV8oFcLISYBtwDfNpTP4EG1GFKllLuBI3cOTZBSlgAlQojvUS3ir1AfmP9JKbcZOf4GrDNaY07gf8YX2bmoD+Y/jNvL4Kei4gG6Ab2llFtQH9hgFqCK8TnAfON5WGx8qOpzzLmllN4gt+MHhgkhdkopC4CCOtftkFJONG5nCqpF1UUIYaPh18QJZBit9eHAk8b/36O+KII+D1LKWXX+dQoh5hjPyao6l/9DSlltXD8LVaAeN66bJaWcb+R9DHAb758xwGYp5VRjuQ+EEPcBl6BapEcK+riBfcFyG56SUh4G1gsh1gFz6rwGOagG0xTUFsgbUsqlxnpThBCPoop17fvmxdrXXggxE/Xa1scDDBBCpEgpD6Ja6C1KSy66lx+5k0oIcRJgAwrqfKFbUV0Gter+DeqbdWuQ2+8NpAohSupcFsHPPwB131QVQIwQIjLYh1UIEQH8B7gG1ZKr3WROQW3WRjaQszdw2hFZIoGp/FIqcEhKWVrnsh3AKUGWDeZh1IdymRCiGNUF8Xad6498zPF17nfHEfcZCXSRUm41NvFGoIrC48CdRqsrA9WiAvgvaqtjjvH6vSmlnHBkQKNb4ENUa2g+cCNq07Qhx5xbCPEP4Gbj8ieklE8IIa4DxqFac4uAB6WUG4+8DyllhfEY4lEttIZeEyeqNTkSWIvaqnkLVVi2GMXhF4QQmcB41KayFWhnrF+r+Ii++x3G463143tMSlkmhDhkXH/kc1K7bvdgORp43A3ZX+fvyiD/dzX+7g3cJoT4c53ro454HEe+tnWvO9KdwL+AjUKI7YBdSuk4StaQaslFN5hdQDWQUk8rBX65uboLtZkR7La2SykHHmeWI+/nRuAy4AIgH0hC9eVZUP1xXtTm/CZj+Z5HZHFKKS9sxP3uBZKFEAl1PuS9gD2NCS2l3IdqXSCEOBuYK4SYb7Q8j3a/vev83wv1mGo/TE5UizTK6Id3orp0OmBsoht5HwQeNLpOvhdCLJdSBmuhf4AqzhNQm7dXNObxHUtuKeXdqO6YH0kpvwa+FkLEovoZJ6K+SI52Hw29JrmAMB6DU0rpEkL0An5DPV0Lxub1Z6jn8EsppUcIMR31fqrVQQgRV6fw9gLW1bn+x/eYECIeSDayHvmc1K771VEeZzAnOkzhLuA/Usr/NMV9Syk3AzcYW11XAp8KITq2pB3LYVV0pZQFxibWs0YrpQzVz9NDSllfv9gk1KbvQtRmWX/UJsgy4LAQ4hFUS6wGGALE1umKaMh+VB9hrQTUF0IRqkXyRJ3cPiHE58A/je6OXqgP005jEQcwQQhxCz/1W45A7UzacMRzsEsIkQs8KYQYh2oF3clPLbYGGX3ci42uhWLUG9fXiFU/AB4xNg0Ljcf3UZ0vPyfwDPCJ8f88Y50FUkqfcd9ZwEbUlsdh436D3reUMk8IUYh6/b42ug6Ox9Fy/8jovjoN1SVQiXp/HfW5OdprYrQOV6J2Lv3GWC0X1Y95Zz03GwVEG5m9Rqt3LD8vqgB2Y3P8NFQ3Vd1+/IuNL9ZlqK2PpUbW2cBLQogbUX2eV6F2Gh9Pi/DIz8Gxmgh8IYSYa+Rsh+r+mH/ElkN9991RCJFUu2NUCHEz6v1SWGfLsTHv75Bp8TvSgrgV9YZ0oYrGp6h+wqCklJ+gNvunAaXAdNSeYx+qD2sEsB21p3oSqoXaGE+ijowoMT5o76I20fYY2Y7sS7rXuO19qG6DD1BFurYFOBbVn7zXWOYp1IcumBtQe3r3Al+gjt74ppG5RwNLje6AGai91tsbsd7bRu75qOerCqi7SehEffHMN/5fiPoAza+zzEBgLqqYLQZelVLOa+A+P0BtOUxrRL7jzV2XFdUS34s6AiED+GMj7+dor4kT1TW2rM7/dZ+vnzHeE/ehimIxaktqxhGL7TOu24vaSXZ3na4QUM/beOOxjEL1byOlLEIV6AdRjYSHUf3RQbs5juIF4GqhTsZ58ahLH0FKuQK15fWy8Vi2oHZ8Nmbdjaj3yDbjc5iK2uG23nh/vwBcb/SztxgWPYi5OYQQTwFdpZT6zB/tmImjnBgg1CFju6WUx3x8u9a8wqp7IZwJdRxuFGpHyGjUZuVdDa6kaVqro4tu6CSgNoVSUcdfPgt8aWoiTdNCTncvaJqmhVA47kjTNE0LW7roapqmhZAuupqmaSGki66maVoI6aKraZoWQrroapqmhZAuupqmaSGki66maVoI6aKraZoWQrroapqmhZAuupqmaSGkB7zRws6EPE8H1Bxd7VBTLAX7saAmAi1FDZhekp1uCzoDsKaFkh7wRmtRJuR54lGzGAxDzfjcBTWfVhfjpzNqiMzj4UEN2l2IGvh7C7AZNYXSZmB7drqtRc0yoLU+uuhqppiQ57GiCuvJwFDj76GBQKC3xWKxNLhy8/GgZpfYhJraKRdYolvIWlPSRVcLiQl5nkjgVNQUOOcAZ9L4qZHM5EdNv5Rb+5OdbttsbiQtnOmiqzWbCXmePsClwIWBQCDDYrEkmBypqewFZqLm2/suO91WY3IeLYzooqs1qQl5nl7ANYFA4DqLxTLa7DwhUArkoGYBmaW7IrSj0UVXO2ET8jw9gGsCAf91YDnVxD5Zs3lQU89PBT7NTrdVmhtHa4l00dWOi7Ej7NKA3/9nLJbz2nChrY8b+BCYmJ1uW2l2GK3l0EVXOyYT8jzJAb//Lr/f/+eIyMig039rv7AceBX4MDvdVmV2GM1cuuhqjTIhzzPc5/X+1Wq13mixWqPNzhOmioCXgBey020lZofRzKGLrtagCXme0V5PzdORtqgxZmdpRdyo4vtcdrrtkNlhtNDSRVcL6okVlcM81VXPRbeLv8DsLK1YKfAy8Gx2uq3I7DBaaOiiq/3Mf5ZX9PdWVz0b1S7+Ur1zLGTKUH2+T+hDzlo/XXQ1ACbkebpWl5c+ExUbd4PFatWjz5njAJANTM5Ot+kPZiuli24bNyHPE1FecvBvMfFJj0ZE2mLNzqMBsBi4NzvdtsrsIFrT00W3DXt0zo7zomLj34mJT+xtdhbtF/zAROBRvbOtddFFtw169Osd8VgsbyWkdLnGYrHqftuWrQh4ODvd9rbZQbSmoYtuGzPuS9f1iSmpr0W1i2tvdhbtmEwHfpedbjtodhDtxOii20bc8OR7sT2HjX6/Q/e+V+iDEsJWAfDb7HTb12YH0Y6fLrptwO0vzTi9R9qoT+OTO3c3O4t2wgKoY3sf1qcUhydddFuxtIwsS8ZvH/5b9yEjx0dGRR/vFDday+QCbspOt602O4h2bHTRbaWueOyV9v1OGfNFpz6DxpidRWs21cAfstNtU8wOojWeLrqt0E1Pf3Bav1PGzIjrkNLZ7CxaSLwAjMtOt3nNDqIdnS66rUhaRpblpLHX3Jk25tIXotvFtzM7jxZS3wLXZKfbis0OojVMF91WIi0jyzbi4hsnpJ132X2RtqhIs/NoppDAb7LTbVvNDqLVTxfdViAtIyvu9Gvvnjzw9Auvslj1yQ5t3EHg8ux02yKzg2jB6aIb5oaPvbrjOTffP6PnSaeeaXYWrcWoRBXeOWYH0X5JF90wNjLr5j4Ztz/0VZf+acLsLFqLUw1clZ1um2V2EO3n9BB+YWr4hVeddO5tD36jC65Wj2jgiwl5nivMDqL9nC66YeikC64cNebO7C+6Dhg2wOwsWotmAz6ekOe5zuwg2k900Q0zQ8+7bMSYO7I/TBUj+pudRQsLkcD7E/I8t5gdRFN00Q0jw3512fDz7sr+qPuQdN3C1Y5FBDB5Qp7nBrODaHpHWthIy8gadt6df/uk50mnDjY7ixa2aoCLstNt88wO0pbplm4YSMvISjvzhnun6oKrnaAo1M61oWYHact00W3h0jKyBp009prXBpx2/gizs2itQntg9oQ8T6rZQdoqXXRN4rbb/+q22xucmywtIyu198lnPHXyRdedFapcWpvQC1V4E8wO0hbpohtimUIkFI0ffxvwHLDUbbefEWy5tIys9sAD+7auP+A+sHtbSENqbcHJwKcT8jx6nI4Q00U3hDKF6HlKjx7vWmCScVEX4Hu33X5jkMXvBDpUlx0umPXMuA/2bFi1JHRJtTZiLPCs2SHaGl10QyRTiKTO8fHZ95x++oURVmvd1kU08L7bbn/cbbfXHaxmOepQn3i/zxv49o3Hv94w3+Hw+33+kAbXWrv79FlroaUPGQuBTCFswP2Pjx37x4EpKQ31434K3JY0fnwFqKMWgPsAL2r0KAadObbPKZffcV1kVHRMc+fW2owSID073ZZvdpC2QLd0Q+PS64YPv/woBRfgamC+225PBXA5HS7ADlQA3QE25c7J//bNf0+sKnMXNWtirS1pjzpdWM+jFwK66DazTCHEoJSUmy8ZMuSURq4yCljmtttHAricjgLgcWAz0Aew7t+y7tCsZx+a5N6/Z3uzhNbaotHA02aHaAt00W1GmUIkREVE/PHPZ511ZmREhO0YVu0OLHDb7VcBuJyOUtTRDt+jCq+tvLiwauZ/739v3+a1K5s8uNZW/WVCnudys0O0drroNpNMISzAzXeffvqYTnFxxzNBZDvgE7fd/hiAy+nwAO8C76GKcpzf6/HPeeX/HJsWz/kq4PfrznmtKbw9Ic/TzewQrZnekdZMMoU484zevcffd+aZF1oslhOdQuc94K6k8eOrAdIysoYD9wJVwCGAIRmXDBiZdfPVEbao6BO8L02bnp1u00c0NBPd0m0GmUJ0iYqIuOO2kSNPaYKCC3Az8J3bbu8M4HI6fkD183qAbgAbnDO3zHv7qbeqy0tLmuD+tLbt8gl5nmvNDtFa6aLbxDKFiADuunXkyKHtY2OTm/Cmz0TtYBsG4HI6dqEK706gN2DZs2FVYc7z2RNLD+7b2YT3q7VNL0/I8zTl+1cz6KLb9E7vnpg4IqNfv1HNcNu9gVy33f4bAJfTUQI8A+QCfYHIw4V7K2Y+ff+7B7ZtWNMM96+1HZ2ACWaHaI100W1CmUIkADfeffrpw2zHdrTCsUgAZrjt9vsBXE5HNfAW8BHQE4j11lT5vnrx0elbl8+bq/vstRNw14Q8T9CxQbTjp3ekNaFMIW46p0+fm/505pmZIbrLicCfksaP9wCkZWSNAu4ByoFigGEXXDX45F9fd2VEpK25vgS01u0HYGR2us1ndpDWQrd0m0imEL1tVuvYm9LTR4fwbn8HfO2225MBXE7HSuDfQADoCrBu7mcb50959u2ayvLDIcyltR7DgdvMDtGa6KLbBDKFsAI335ie3q99bGxKiO/+PNQQkQLA5XTkA/8CClDjplp2rV2676sXH5tYVly4N8TZtNbhnxPyPPpQxCaii27TODU2MnLImH79zJrdYQCwxG23XwDgcjoOAU+hRirrA0SWFOwoczx9/zsHd25eb1JGLXz1BP5odojWQhfdE5QpRAxw0w0jRnSLtdniTYzSHshx2+33ALicjirgDWA6qsUbU1NZ7p393COf5q9e5DQxpxaeHtUzTTQNXXRP3BkxkZHtz+nb91SzgwCRwKtuu/1Ft90e4XI6/C6n4wvgVaAzkEQgwPzJz8z74euPP/P7vF5z42phJAV4wOwQrYEuuicgU4ho4MrrTz65q8mt3CP9GXC47fZEAJfTsQT4D6oodwFYnfPBukXvvzjZU1VZZl5MLcw8OCHPE+p9Fq2OLron5vToiIikc/v2Pc3sIEH8Gljsttv7Abicjq2oHWwHgR4A21ct2DPnlX9MrHAX7TcvphZGEoBss0OEO110j1OmEFHAldedfHLXdlFRLbWvKw11ZMM5AC6noxB4EliLOoMtomjX1sOO/z749qE9+dLEnFr4+N2EPE9L2qoLO7roHr/TIiyWpHP79WsJfbkNSQHmuu322wFcTkcF8DIwC3VacXRVmbtm1rMPfrRr3fJc82JqYSIRuN3sEOFMn5F2HIxW7lOZQvS6bdSoK83OcwyeBv6WNH68Py0jywKcA9wBFAGlAKMuu33EkIysLKs1IsLEnFrLtgkYnJ1u08XjOOiW7vEZAXQY06/fMLODHKOHgc/ddnucy+kIuJyO+ajuhljUACes/HLy6iUfvz7VU11VYWZQrUUbBITqVPdWRxfdY2TMCPHrXu3be3u2bz/Q7DzH4TJgkdtu7wngcjokagdbKcYOti1L5u749vV/Tao8XFxoXkythbvP7ADhShfdY9cd6HvF0KH9rU0zQLkZTkaNzXsagMvp2Icas2EDageb9cD2DcWznn3orZJ9u7aamFNrucZOyPMMNjtEONJF99idZbVYvMO7dRtpdpAT1BWY57bbrwdwOR1lwIvAHNSpw1EV7qJqx38feH/vxtXLzIuptVAW1JRR2jHSO9KOgXHK7/MXC9Hh1lGjWtN0JnbAnjR+fMDYwXYeamSpQqAM4NSrfneKOOvXmRarVX9Ra7UOAt2y0236zMZjoD9Ax+YkIPrcfv2Gmx2kiY0HPnDb7bHGDrbvUEc6xAMdAZZ9NnHFss8nve/1VFeZGVRrUVKA880OEW500W2k2h1oCdHRlT2SkgaYnacZXIfqbugK4HI61qPmYKsCUgHkwpxt3018YlJV2eFD5sXUWpjrzQ4QbnTRbbxuQL8LBw7sGGm1RpodppmcCix32+0jAFxOxx5U4d2KOpHCum/TD0Wz//fQpMOFe/PNi6m1IFdMyPNEmR0inOii23jDgMCI1NTWvse2B7DQbbdfDuByOg4DzwFO1A42W9mhA5Uzn75/6r4t61aZF1NrIZJQ43xojaSLbuOdGWm1unu3bz/I7CAhEIc6ieIRAJfTUQNMAd5HFeV2Pk+Nf87L/5i5ecncOYGAX++Nbdt0F8Mx0EcvNEKmEMnAsxcMGGC969RTbzU7T4hNAX6fNH58DUBaRtbJqEOFKoFDAEPPu3zQiItvvCrCZtObmW1TOdA5O92mz2JsBN3SbZzBQGB0z57C7CAmuA341m23pwC4nI41qH5eH6qfm/XfT9/knPz0W9UVZW7zYmomigPGmB0iXOii2zhnAmX9O3Zs7f259TkbdQbbUACX07ETderwLtQONsvu9SsO5DyfPbG0aP9uE3Nq5rnQ7ADhQhfdo8gUIg4YMrRLl4j4qKgks/OYqC+Q67bbMwFcTkcx8F9gsXFd5OEDe8odT98/uTBf/mBiTs0cY80OEC500T26QYA1PTW1u9lBWoBEYKbbbv8LgMvpqAYmAZ+gZoyN9VRX+nKez/5i2wrnd3p/QZuSNiHPk2p2iHDQWo83bUrDgJp+yck9zQ7SQkQAz7vt9iHAvS6nwwvMTMvI2gf8AXXacMnC955fcPjAnoMnjb32iojISJuZgbWQyQA+MDtES6dbukc3DHCnJibqovtzfwC+ctvtHQBcTsdy1OSXVozJL3+Y88mGhVOfe6emsqLUvJhaCGWYHSAc6KLbgEwh4oHOybGxvqSYmE5m52mBzgeWuO32gQAup2M7avCcA6juBsuONbkFX7/02MTy4oMFJubUQuNcswOEA110G9YT8J/aq1eP8B06t9kNQhXe8wBcTkcRMAHIQ53BFlG8N7/U8d8H3inatXWDeTG1EBgyIc/TwewQLZ0uug3rCzC4UyfdtdCwZOBrt93+OwCX01EJvAbMQB1SFlNdUeqZ9b+HPt6xZskCE3Nqze8kswO0dLroNuwkoLRHUlIPs4OEARvwpttuf85tt1tdTocP+Bx4HegMJBII4Hznqe/WfvPp536fz2dqWq256KJ7FLro1iNTiEhgAFCaHBvb2ew8YeSvqMPKEoyxeXNRk19Go4ovebPeX5v7wUuTPdWV5WYG1ZqFLrpHoYtu/boC1rioKEuszZZgdpgwczGw2G239wFwOR2bUTvYilH95Gxb4dz9zavjJ1a4Dx0wK6TWLHTRPQpddOuXAiBSUpL1TrTjMhR16vBZAC6n4wDwBLAW1VcecXDHZvesZx58q3jvjk0m5tSa1jCzA7R0uujWLwWw9O7QoaPZQcJYJ9RgObcAuJyOcuBl4CvUDrboytKSGsczD3y427VysYk5taaTOCHP09vsEC2ZLrr16wFUd0tISDY7SJiLBt512+1PuO12i3EG24fAW6hRyhICfn/guzf/Pcc1b+ZMv9/nNzWt1hR0a7cBuujWrwdQmRIXp4tu0/gb8Knbbm9n7GBzAk8B7TC6clZMf3vV0k/enOqtqa40M6h2wvqZHaAl00U3CGMSylSgokNsrC66TedK1FRA3QFcTscG1BCR5UB3gM2L5+R/+8bjk6pK3UXmxdROUFezA7Rkx110hRABIcSzdf4fJ4T45zGs30UI4RBCrBFCuIQQs43LxwghHMebq4m0A2IAb2JMjD7Dpmmloya/PAXA5XQUAP8GNqHOYLPu37r+0Kxnx01y79+9zbyY2gnoZnaAluxEWrrVwJVCiJTjXP9fwDdSypOllGlA9glkaWrJgB8gOjIyzuQsrVE3YL7bbr8GwOV0lALPA9+hCm9UecnBqpn/feD9ArlmuXkxteOkW7oNOJGhHb3Am8D9wGN1rxBC9AbeRu29LgR+K6XcecT63YA5tf9I+bOBr+OFEJ+iOuRXAjdLKQNCiPOBZ4zcy4F7gJOBbCnllUKIy1A7aZJQXyguKWU/IcR9wN1GZpeU8mgT6XUALPFRUbZWPN262WKBj9x2++Ck8eMfdzkdnrSMrKnAHuAWoNDv9ZR/89o/Z592zR8ODjpj7K8tVqs+di886KLbgBMtKK8APwghnj7i8peBd6WUU4QQdwAvApcHWfcjIcS9wFzgHSnlXuO6dNRxnnuBRcBZQogVwGTgfCnlJiHEu6ii+7KxPMA5wDpgtPHYlhqXZwN9pZTVQoj2jXhc7QBL5/j42EYse0L2l5fzz8WLKaqqwmKxcEX//lw/eDDu6moeW7SIgrIyusXH88TZZ5MY9fN5HwvKy3lk/nx8gQDeQIBrBw3iqoEDqfH5GDd/PgcqKrh64ECuHqQmMH5i6VKuGjgQkdxiuqktwL+MsXnvcDkdVcC3aRlZ+4E/o7p4ipZ+8sYy9/7dRSMvufWaSFtUtJmBtUbRRbcBJ7QjTUp5GHgXuO+Iq84Aphl/T0XNsXXkul+j9nJORE38mCeEqB0+cZmUcreU0g/k4mejAAAgAElEQVSsRm1yCmC7lLL2QPopwLlSSi+wRQgxBDgV+B9qiLlzgNrBVX4A3hdC3Ixq7R5NHEBybGyzF90Iq5W/jBzJx1lZvD12LJ9s3sw2t5spLheju3Ths0svZXSXLkxZv/4X66bExDBp7Fjev/hi3hk7lnddLgorKlhSUMDg5GSmXXwxX2zZAsCm4mL80JIKbl03AN+77fYuAC6nYx1q8stq1A5NNs6ftfX7SU9Oqi4vLTYvptZInSfkefRO+no0xRPzPHAnRqGqR9B5W6SUh6SU06SUt6C6C2rH46yus5gP1WptaNNyAZAJeFCt5rONn/nG9b9BtaxHASuFGlehIe0BX1x0dLO3qlJiYxlsFMI4m42+iYkUVlQwf/duftNPHXnzm379cO7+5XyPtogIoiIiAKjx+/Eb0+NEWq1Ue734/D8d8vrGDz/wh5Na9Bmap6POYBsO4HI6dqMK73aMyS8L5OqDs597ZFLpwYIju6q0liUC0CcV1eOEi66U8hDwMarw1soFavtNbwIWHrmeEOJXQoh2xt8JQH+goQ/TRqCPEGKA8f8tgNP4ez5qoJXFUspC1As+GFgvhLACPaWU3wMPowpq/FEeVhLgibPZoo6yXJPaW1aGLC5maEoKh6qqSDEa2imxsRRXVQVdZ395OTfOns0l06dza1oandq149SuXSmqquK3c+ZwS1oa83fvZnByMp3atQvlwzkevYBFbrv9EgCX0+EGnkV1MfUFbKUHCypmPv3Auwe2bVhtYk7t6GLMDtBSNdUmwLMYB7gb7gN+K4T4AVUc/xJknVHACmOZxcAkKWW9e6qllFXAb4FPhBBrUUcXvG5cvRQ1RUxty/YH4AcpZQD1rfuesU4e8JyUsuQoj6cd4IsNYdGt8HjIXrCAB0aNIt7W+CnFusTFMe3ii/n8kkuYtW0bRZWVRFqt/Puss3gvM5MLevXiAym5afBgnlu5kuwFC5gfpNXcgsQD0912+0MALqejBrVT9kPUCSvtvDVVvq9efPTLLcu++yYQ8OvZL1smPS9ePSx6xtZfyhTiIaD7jSNG9L40Le3IHYBNzuv3c/+8eZzerRs3DRkCwNUzZ/L6BReQEhvLwcpK7p47l08vuaTB2/nXkiWclZrK+b16/XjZhxs3Eh8VRafYWJbv3889w4dz55w5TP71r5v1MTWRt4G7k8aP9wCkZWSNBP6IOpmiGGDY+VeKkzOvvyoi8hi+qbRQENnpNj2QURC6szu4WMDnDwSafRyAQCDA40uW0Dcp6ceCC3Bujx7M2qbODZi1bRvn9vjlOOr7Kyqo8qr9godralhTWEjvxMQfrz9cU8PCvXv5Td++VPl8WAGLxUKNP2yGN7gDmOu22zsCuJyOVah+Xj/GHvJ1334u509+5q2ayvLD5sXUgtBfgvXQRTe4KMDn9Td/dVpTWEhOfj4r9u/nptmzuWn2bBbt2cOtaWks3bePq2bMYOm+fdyWlgaAq6iIfy9VR8Llu93cMWcON86ezd1z53LzkCEMaP/TEXGT1q7ljqFDsVgsnN6tGxsOHeKG2bO5rH//5n5YTelc4I3af1xOxw5U4d2L6gO27Fq3bP9XLzw6sezQgT0mZdR+SR/fXg/9xATnByxev7/Zp5QZ0bkzy268Meh1r55//i8uS+vYkbSOasfwad26Ma1b/WdcPjBq1I9/R0dE8NKvfnWCaUPL7/d7/PCvSKt1Qt3LXU7HobSMrKdRffxnYOyAramsKDMh5glx793OvBfG/fh/6YHdpF9zL92GjiZ30uN4qipI6JTKufc+RVS7+EatO/TiW1j+/v/Ys2YByb0Hc+6fngRgy/wZVJe5GXrxLaF4aLq21EM/McH5AIsvBC1dLbiC0tI9r+Tmrt1SVPRFjjoW+2dcTkdVWkbWG8De4Rdd+/Cw868cGRkVHXZ7zJNS+3LZU58B4Pf7+PieX9F79Pl8/9z9jL55HF3TRrPp+89ZN/MdRl7350atW1NRSuGm1Vz+9Bc4X3qEQzs3kdi1F1ucXzL2b6//IkMz0d0L9dBFNzgvYA1F94L2cx6fr+arTZtWTMvLWxNQZyC66lv24vufFrGJ7f8d16FTqxi/tWDtEhK69CS+Uyrugny6DDkFgNSTzmDOk3/4RdGtb11PZTk+r4dAIIC3pgprRCTrZr7DkMybsEbqWmg2XXSD8xKi7gXtJzuKi/Nfzs1ducvt/gb4MEdKd7Dl7n5nnjWpc/cnO3Tvc39rOmph++Ic+p55MQDtewxg58rv6X3Kr8hfOofyon2NXtcWG0ef0y5kRvbVdBt2OlHtEji4dR0jrrqn2R9DHY3u6hFCPAbciNrC9AN/AD4CTpFSHmyeeObRRTc43b0QQtVeb+X09euXf7F+fR7qMLG1OeoY6194cPr6Uzv3HfJBu6TkVjVQts/rYefKeYy6/q8AnH334yyd/CRrPnudnqPGENFAC/XIdQFOuvQOTrr0DgAWvvF/pF9zL5u++5Q9PyymQ69BjLjyD837gBpZdIUQZwBZwEhjbJQU1I7sVksX3eC8gKXC4/GYHaS123Tw4OaXFi3KKywvnwV8liNl0GnZs3O22QKBwMsde/S/yxoR0eqOutm9egEd+wwhtr06x6h9935c9NhEANx789mdN7/R69ZVtH0DAInderN0ygQu/ucU5r0wDnfBDpK6NetUZqWNXK4bcFBKWQ1Q27IVQgD8WQhxCap/+Bop5UYhRDLqi7kfUAH8Xkr5g3Hy0zmAGzgI3C+lfFcIMRU1TksB8A6qoFuBq6SUm5vmoR6bVvfmbSJewLqvtLSxbxztGFV4PGXvrFjx7f/NmfNlYXn5+Bwp362v4I6bvv786LjE/A7dev2+NRZcgO2LZtPvrIt//L/SmDgj4Pez5os3EBdc2+h161r18UuMvOZe/D4vAaO3zGKx4qtp9hmRGnvc9BygpxBikxDiVSFERp3rDkopRwKvAbWHadiBPCnlcOBR1IBbYIxGiBqdcBuqAIMa02MJamjXF6SUI4BTANNOy2yVb+AmUAlE7HG7ywP6lL0m90NBgeuBmTNnfL1p0+vAP3Kk3BhsueycbXHZOds+6NhzwDexCUmpIY4ZMt7qSvauXUzvUy/48bJti2bz2V9/w+cPXEK7Dp0ZOOYKACoOHWDOhHsaXLfWjuXfktJ/GO2SOxMdl0ingSfzxUNXgMVCcu/BzfmQDmen2xq1lSilLEMNCfB71NjbHwkhbjeu/tz4vRI10iCogaymGut+B3QUQiShBr061/h5DThJCNEdOGTcx2LgUSHEI0BvKaVp8/Dp04CDyBTiclQ/0+7J11wzLsZm07NHNIHS6uqSKStXLl2Yn78SmJQj5fb6lh033XVlQkrXN6PjEvRoVeFne3a67bj63IUQVwO3ASdh7EgTQpwCPCOlHCOEWA1cKaXcZiy/C9W6TULtfNuBmlThBdSIgz2llOOMZfujRhz8K3CXUbRDTvfpBleEGiiHCo+nVBfdExMIBALLdu9e88aSJT9UeDwfA3NypAzaEnpoxoZkW3S7qSm9BwbfXtbCQaMnFRWq89Zfp391BKpw1jcO6XzUyIWPCyHGoLogDgOHa3fCSSm3CSEWorok7jXupx+wTUr5ovH3cNT0UCGni25wZRhzpJXX1JQlt/whEVus4oqKwonLli1ftXdvLjA5R8p6T9Ud9+WGOxM7pz4XFdMuIYQRtaZ3LP2l8cBLxowuXmALqqshq57l/wm8Y4xOWIFqFddaitFYQnU3PMlPw8peB9wshPAA+1BzNJpCdy8EkanG7M0Gdo+/4IJLh3TunH60dbSf8/n9vgX5+XlvLVu2xuP3TwOcOVIGPe75oRkbu0fFxn2YkNL1FzOMaGHpmex020Nmh2ipdEs3uB+PWjhcVaWPYDhGB8rK9r66ePGKjYWF84GpOVIeqG/Zh2fKcUlduj8eGRUTdqfwavXaYnaAlkwX3eDKMI7s2F9WdsjkLGHD6/d7vtm8eeXUVatW+wOBqcCSHDXP3S+Mm+4aGJPQ/uPkHv1GhDim1vx00W2ALrrBVaD6dK1biorqbaVpP9ntdu98OTd3ZX5x8bfAtBwpg04gOSHPYynem/+vDqm9H4mwRbWaU3i1n9FFtwG66AaRI2UgU4gDQOy6ffsK/YFAwGqxNDQxZptV4/VWzdywYfkna9euQZ0ptLq+U3jHfelKb5eY/GGH1D6DQptSC6FqYJfZIVoyXXTrtxUYVeHxlJdWVxclxcT88hzLNm5rUdHWl3JzV+0rLc0BPs2RMmj/90MzNkZaI23PJXfve481IjIi2DJaq7E9O92mxyxpgC669duKOvuFg+Xl+3XR/Umlx1P+ydq1y2Zv3JgHvJUjZb3DLz74xbpz4zt2eT82of0v5xvSWiM9L9pR6KJbv30Yx+ruKy3d379jx6Em52kR1u/fv/GV3Ny8Q5WVM4Avc+o5nfKhGRtjI2y2Nzv2GnCj1do6x0vQgqp3Rm9N0UW3fvsBC0B+cfH+s/r0MTeNycqqq91T8/KWObdtqz2Fd2t9y4770pUV37HL2zFxiZ1CGFFrGZaYHaCl00W3fiWonQKR6/fvb3gE6VYsEAgEVu3Zs+61JUvWlNXUfArk5EhZE2zZR2ZtTrJG2N7t2HPApXq/Y9sTCAT8Fotlqdk5WjpddOthHMGQD3TbduhQSVl1dUl8dHT7o6zWqpRUVha9tXz50uW7dy9H9d3Wu1d63JeuWxI7pb4UFRuXFMKIWgtisVjWZ6fb9MlER6GLbsO2AAOBkl1u9/a2cjqwPxDwL8rPXz1p2bI11T7fB8D3wSaHBHjYsalrZFTMtJReA88LcUyt5VlsdoBwoItuwzajhoJjw4ED29pC0S0sL9/3xpIlK9bt378AmJIj5f76ln1oxsb7EjunPmmLjtUjAmmg+3MbRRfdhm0zflsW5edvv3JYq5h0Niiv3+/9bsuWVVNWrlzjCwTeBXIbOIW3X0x80kcde/Y/JcQxtZZNt3QbQRfdBuRIWZapBkmO33P4cGlxZeWBDrGxnc3O1dT2Hj68+5XFi5dvLSqaB7yXI2XQ8SYm5Hksh/Zs/0f71N6PRdqiWvXkgdqxCQQCBRaLRZqdIxzoont0K4FLgdIdxcXbWlPRrfH5qmdv3LjiozVr1gTUpH0rGziF96TYxA4fJXfvOyTEMbUwYLFYHNnpNj1ObCPoont0EuN43XX7928fkZp6usl5mkR+cfG2lxYtWrXn8OE5wEc5avT9X/jrJ3kR0e0Snu6Q2ve+iMhI/X7R6jPD7ADhQn+Ijm6H8du6YPv2/OtPPtkbabWG7fNW5fVWfL5u3bIZLtdq4C1gfb2t2+muM5M6d58Wm9ihWefq1sJbIBCosFgsc83OES7CtniESo6UVZlCbAa6uquqSnYWF2/q17Fjmtm5jsfGAwfkS7m5q4sqKmYA03OkrAi23KNzdkb5vZ7Xknv2u12fwqsdjcVi+SY73VZldo5woYtu4yxHTYZXsmz37rXhVnTLa2oOT1u9etm3W7asQp3kUO+gJA9OX//rhI5dJ8fEJ3YJYUQtvOmuhWOgi27jrAFuBixfSbn5ymHDqqMiIqLNDnU0gUCANQUF619dvHjN4erqz4BZOVJWB1t23JeuBFt07OSUngOusFit+hxerVGMU38dZucIJ7roNkKOlAczhdgCdKryeku2FRVtGNy5c4ueZsZdVXVo8ooVyxbv3Fl7Cu+O+pYd96Xr+oSUbq9Gt4vvEMKIWuuQm51u07OrHANddBvPCdwBlCzeuXNtSy26/kAgsHTnzjVvLlu2ptLj+QiYmyOlJ9iyj8zanBJhi56W0mvghSGOqbUSFotlitkZwo0uuo231vhtnbtly/brTz65PNZmizM10RGKKioOvLl06bI1BQW5wOQcKQvqW/ahmfLuxJRuz9hiYlvUY9DCR8Dvr7RYrR+ZnSPc6KLbSDlSujOFWA/08fn9RbKwcN2I1NTTzM4F4PP7fc5t21a9vWLFGq/f/z6wIEdKX7Blx0139YqOT/ioY49+reJ4Y81Un+lRxY6dLrrHxgkMBYpmbtiw/ORu3U4ze9zYfaWle15dvHj5poMHnahTeA/Wt+zDM2V2+269/hkZFd3idwJqLZ/Fap1odoZwpIvusXEBPtTA5kW73O5Nvdq3N2VmW4/PV/P1pk0rp61evdofCEwBljVwksOQ2MT2Hyf36Nd6R+zRQsrv82569JTY+WbnCEe66B6DHCkrMoVwAhnAnjmbNi2569RTQ150d5aU7Hg5N3fFzpKSucCHOVKWBFvu7nfmWRM7dX+iQ/c+D0RE2mwhjqm1YtaIyJfNzhCudNE9dt8B5wOWuVu2bL9y2LD9ye3aheREgmqvt/JLl2v55+vWrQbeBn6or3X74BfrRnfuO+TDdknJ/UKRTWs7jB1o75qdI1zponuMcqTcmynEWmAAcGDRjh1LLhky5LLmvt/NBw9ufik3N+9AWdls4LMcKcuCLZeds80WCPhf6thzwO+sEfoUXq3pBQL+1/6WHu02O0e40kX3+OQADwN8tnbt2gsGDLiguQ4fq/B4yj5as2bZ15s21Z7Cu7G+ZcdNX39+fHKXd2MSklKbI4um+f3+GmtE5NNm5whnuugeHwkUAIlVXu/hvL17l53Zu3eTzxG2dt8+1yu5uatLqqq+ABw5UgYdVOSRWVvaWazWtzr2HHCdPoVXa04+T/XkR09PrHcKJ+3oLIGAHnf4eGQKcQbwe2BHcmxs9HOXXPKX6MjI2Ka47dLq6pIpK1cuW5ifvwKYlCPl9vqWHTfddWVCStc3o+MSOjbFfWtafQJ+v9ditfbNTrftNjtLONMt3eO3CigHYg5VVlYt2rFj/q/697/oRG4wEAgEVuze/cNrS5asqfB4PgHm5EhZE2zZh2ZsSLZFt5vasdeAi80+VlhrG7w11dP+cUaiLrgnSLd0T0CmEOejRh/bER0ZGfHKZZfdGx8d3f54bqu4svLgxGXLlq3as2cx6hTeet/c477ccEdi59Tno2LaJRxndE07JgG/32exWgdmp9vq3erSGke3dE/MQiALiK/2esu+3bLl+8uGDr3iWG7A7/f7F+Tn5721fPmaGp9vGjCvvlN4H5qxsXtUbNyHKb0GnN0E2TWt0bw1VR//44wkXXCbgG7pnqBMIU4D7gHyrRaL5eXLLvtDY4/bPVBWVvDakiUrNhw44ASm5khZ7xB5D82UDyZ2Sn3cFh3TJP3GmtZYPq+3KiIysl92uq3eAZS0xtMt3RO3AtgNdPAHAsUzN2yYe9uoUTc1tILX7/d8s3nzyqmrVq32BwJTgSU5UvqDLTtuumtgTELSxx179GuRQ0lqrV9VWcmzj5/XTRfcJqJbuk0gU4hhwEPAdoD/ZWXdmpqY2DfYsrvd7p0v5+auzC8u/haYliNlcbDlJuR5LIf25NuTOqc+EmGLimq28JrWgJrK8oKo2Lg+2em2oDt0tWOnz1hqGuuBDUBngLeXL5/l8/t/1i9b4/NVf75u3cJxs2bNzC8ufhx4tb6CO+5LV3pFSdHG5O59/qELrmammsryP+uC27R0S7eJZArRD/g/YCfg/8tZZ2Wc0bv3GICtRUVbX87NXVVQWvoV8EmOlEHHIH1oxsZIa6TtuaTOqfdYIyIjQhZe04KoPFyca8/ofJbZOVob3afbRHKk3JYpxDzgHGDX60uXLuzToUPfuVu2bJu1cWMe8BawoYHhF8+JS+40LTahfY8Qxta0oPw+nw+L5bdm52iNdEu3CWUKkQA8CVQC0UAi8BXwZY6UlcHWScvIso7907+e6Nw/7SGrVQ9Qo7UMpQf3vfifC3v+xewcrZH+kDcho9vgXSAVdbbav3Ok/LCBgtsJ+Gve7GmDCaC//bQWocJ9aHtCStcHzc7RWumi2/SWA/8GxudIuaW+hdIysmzAP4HBhds3rs5ftWBeaOJpWv18Ho/34M7N12an27xmZ2mtdJ9uEzP6bDc0YlEvavyGMwFyP3xlUef+aYPjkzt3b858mtaQwh2bnnn11rNXmJ2jNdMtXZO4nI4A8BFQBiT4fd7AwqnPf+b1VAcdvlHTmtvhA3vWznn574+anaO100XXRC6nowyYBHQCrAe2byhe89VH0/XOTS3UPFWVlYf2bL/caAxozUgXXfOtQx3h0BNg/bdfyN3rV+SaG0lrSwKBAIX5G8e9fsd528zO0hboomsyo2XxKeoU4s4Azsn//fZwYcEOU4Npbcb+res/f/GGU181O0dboYtuC+ByOmqA1wALEO/3evzz3n7qU09VZbnJ0bRW7tCe/C15jvcaHKBJa1q66LYQLqejEHgV1b8bWVKwo2zljMmfBvx+3cemNYsK96GSjQtm/cY55Vm98zaEdNFtQVxOx1pgOtADYFPunPyNC3NmmZtKa4081ZXVGxfMvnnGU3/dZHaWtkYX3ZZnJuACugMs/3zSyvzVuU5zI2mtid/n829wzrJ//I/f6i90E+ii28K4nA4v8AZQjOpqYP7k/87bt2XdKlODaa1CIBBg85Jvpq6e/f5TZmdpq3TRbYFcTocbeBbwA+0B5r5mdxTvzdebgtoJ2bx4zqyln7xxt8vpCDpTidb8dNFtoVxOx35U4Y0D4v0+b+Drl/7+SWnRfj0FtnZcNuXOWbDk49dvcTkdeseZiXTRbcFcTkc+8DzQEYipqSz3fvPK/02rPFxcaG4yLdxsXf790iUfv3aty+kIOluJFjq66LZwLqdjPfAmarhIW9mhA5VfvfjY5PKSon0mR9PCRH7ewlWL3n/xKpfTod8zLYAuumHA5XQsBt5HnSocWXqwoCLnuUcm664G7Wh2rl26bv6UZ69wOR17zM6iKbroho85qFHJegFRFe6i6tn/e/hd94E9203OpbVQ21ctWDN/yrOXuZyOnWZn0X6ip+sJI2kZWRbgV8BtwB6g2hbTLvLX9z1xTYfU3oPMTae1FIGAP+D6fsaSlTOm3OZyOjabnUf7OV10w1BaRtY5wJ3AfqAywhZlvejP/7kypdeAoSZH00zm93l9K2e8++0G58y/uJyOjWbn0X5JF90wlZaRNRr4E3AAqLBYrZbz7vzbhT2GnnKGydE0k3iqq6oXf/jKzPy8hQ/qLoWWSxfdMJaWkXUy8BfU2WulAKdcdnv64Iys31itERGmhtNCqqrscNn8Kc9M27d57d+NwZO0FkoX3TCXlpE1GFV4fcBBgAGnnd9r9JV3XmuLjo0zNZwWEsV7d+xbMPW5d0oKdjzpcjpKzc6jNUwX3VYgLSOrG6rwpgC7ATp075tw3p3Z1+mJLluvQCDAthXz1i7+6NU3/F7vW/pMs/Cgi24rkZaRFQ/8ARgO7AR8tujYiPN+9+jFXQcMG2luOq2peaqrKpd9PjF369LvJgGfuJwOn9mZtMbRRbcVScvIigQuBy4F9gEVAMPHXjNk2AVXXhIZFRNrZj6taRw+sHffvHee+rakYOf/XE6HHn0uzOii2wqlZWSdgmr11gCFAO279oo/59YHLu2Q2nugqeG04xYIBNixOnfdomkvTvd5al42BkXSwowuuq1UWkZWKvB7oA+qn9cLMPqKO0cOOuuiiyIibVEmxtOOUVWZu2TZZ5OW5ectfA/42OV0VJudSTs+uui2YmkZWTbgYuAKwI06tIzOfYd0OOum+65ISOna08x82tEFAv7ArrXL1y764KUVnsryN4DlxgzSWpjSRbcNSMvI6o/qbqg9usFvsVotp139+9H9ThlzXmRUdIy5CbVgykuKDiz9+PUVu10rFgHvuJyOArMzaSdOF902Ii0jKxbV4r0IKAIOAySkdGt3+rV3n9d1wLBRFqvVYmZGTfF5PZ7Ni79ZuWL6Oy6/zzsNmKePTmg9dNFtY9IysoYCdwDJQAFqZxs9h53aZdRlt2cmdurW28x8bVnA7/cXbPph7dLP3txcWliwFJiqd5a1PrrotkFpGVnRwPmoli+o4usHGH7RdWlDMrLGRreLTzIrX1sTCAQo2rVlw7LPJrkO7thUALwLrNB9t62TLrptWFpGVkdU4T0bNXZDEYAtpl3kyKxb0vuMPPssXXybl3v/7u0rvpyyeo9rRTFqzORZLqejzOxcWvPRRVcjLSNrAHAz0Bd1XG8ZQIQtyjri4huH9x895uyY+KSOZmZsbUqL9u9aO+eTNVuWfnsQWAjM0APVtA266GoApGVkRQCjgatRRzkcwtjZZrFaLcMvujZt4OkXntMuKbmLiTHDWsDv9x/ctcW1bu7nG3atXVoBrAY+czkdu8zOpoWOLrrazxinEqcDVwFdqXN8L8DQ8y4f1P+0X52a1KVHf4tFH+zQGN6a6sq9cvXKvFnvb3Pv2xUAtqCmXtqi+23bHl10taCMlu8w4EqgN3X6fAE69RHth/7qilHdBg1Pt8XoISSDqXAX7d+xevGq1V99sN9TWQGQB3wNbNLFtu3SRVdrUFpGlhUYjBpIZyDqdOIDgAfAGmmzDj7n4v59R54zokNqH2GNaNuDp1eVHy7ev2X9WrkwZ/O+zWutqOfrW8Cpp0DXQBddrZGMSTG7o450GANEo1q/xUAAIK5DpxhxdqboNmj4oPZdew2IsLWN8R1qKitKC7dvWL9l2XeuHatzvYAN1S3jAJbqoxG0unTR1Y5ZWkZWDHAS6lhfgSq6hzCOegCIjIqJ6H/qeb17DBs9KKXnABEdl9DenLRNLxAIUOEuKijauXXr7vXLt21d9n15IOCPQbVqFwNLUV0IXnOTai2RLrraCUnLyOoEjALOAboZF5ejWsD+2uW6DxnZqdfJZwxITu3TI6FTtx5RsXGJoU97/KpK3UUl+3bmH9i+MX/bCueOwwf2RAHxqGmS8oBFwEY9e4N2NLroak0mLSMrBRgEnA6kAVZU3+8h4GdDEbbv1ju+x9BTenTqPahHUtce3eM6dEptCcNNBn2Z8QAAAAIaSURBVPz+QHV56aHy4sL9hwv37ju0Z/v+Pa6Ve0v27QJoD1hQLfv1qONrXS6no9zEyFqY0UVXaxbGADsDUIefnYJqFQaMn1Lj58eWsMVqtXTsNSApuXvfDkmde3SIT+6c3K59xw4xCUkdouMSkyNtUdFNlc3v83o9VZWlNZXlpdUVZaVVZe7Dh/fvLizcsXl/gVx9oKayHCAOSEAVWQuwB1gJuIB8l9NR01R5tLZFF12t2Rk74ToAPYB+qFZwX1RL2ILqC60CKo3fv3hTxrVPiYnv2KVdbFKH2Jj4pJjouIQYW1RMVGR0bFRkVLTNao2I8Pt9Pr/P6/P7fH6/z+vzez0+v8/n8/k8vqqyw5VlB/eVluzbVVpeXFjbBWABYlEFNrbO/XqAHYA0fnbonWFaU9FFVzOFcRJGN9QRET2Mn26os+FAFUCr8bcHVZhrf/tQreTa37XFu/Z33b9tQBTqaIva2w3UWa4Q2IY6YaEA2A8c0sfRas1FF12tRTFOykhCtYw7oIag7GBclohqlcYYP9FAJKr4euv8eOpcVgocRBXXEn7q2igFSl1OhydED03TAF10NU3TQsp69EU0TdO0pqKLrqZpWgjpoqtpmhZCuuhqmqaFkC66mqZpIaSLrqZpWgjpoqtpmhZCuuhqmqaFkC66mqZpIaSLrqZpWgjpoqtpmhZCuuhqmqaFkC66mqZpIaSLrqZpWgj9PxJpAx3n4rnaAAAAAElFTkSuQmCC\n",
      "text/plain": [
       "<matplotlib.figure.Figure at 0x7fe15f5856d8>"
      ]
     },
     "metadata": {},
     "output_type": "display_data"
    }
   ],
   "source": [
    "labels = 'No Shows', 'Shows'\n",
    "percentages = [no_shows_percentage, shows_percentage]\n",
    "colors = ['lightcoral', 'lightskyblue']\n",
    "explode = (0.1, 0)  # explode 1st slice\n",
    " \n",
    "# Plot\n",
    "plt.pie(percentages, explode=explode, labels=labels, colors=colors,\n",
    "        autopct='%1.1f%%', shadow=True, startangle=140)\n",
    "plt.title('Percentage of shows v no-show appointments')\n",
    "plt.axis('equal')\n",
    "plt.show()"
   ]
  },
  {
   "cell_type": "markdown",
   "metadata": {},
   "source": [
    "Ok thats quite a high proportion of no-shows 20.3 %!\n",
    "\n",
    "In the next questions, lets try and investigate other variables that may be effecting no-show rates"
   ]
  },
  {
   "cell_type": "markdown",
   "metadata": {},
   "source": [
    "### Research Question 2 - Does gender effect no shows?"
   ]
  },
  {
   "cell_type": "markdown",
   "metadata": {},
   "source": [
    "What is the proportion of all appointments by gender?"
   ]
  },
  {
   "cell_type": "code",
   "execution_count": 60,
   "metadata": {},
   "outputs": [
    {
     "name": "stdout",
     "output_type": "stream",
     "text": [
      "  gender  no-show\n",
      "0      F    70118\n",
      "1      M    36869\n"
     ]
    }
   ],
   "source": [
    "all_appointments_gender = all_appointments.groupby(['gender'], as_index=False)['no-show'].count() \n",
    "print(all_appointments_gender)"
   ]
  },
  {
   "cell_type": "markdown",
   "metadata": {},
   "source": [
    "Lets now convert this to a percentage and scalar representation to make comparision easier"
   ]
  },
  {
   "cell_type": "code",
   "execution_count": 61,
   "metadata": {},
   "outputs": [
    {
     "name": "stdout",
     "output_type": "stream",
     "text": [
      "0    65.538804\n",
      "1    34.461196\n",
      "Name: percentage_appointments, dtype: float64\n"
     ]
    }
   ],
   "source": [
    "all_appointments_gender = all_appointments_gender.rename(columns={'no-show': 'percentage_appointments'})\n",
    "all_appointments_gender = (all_appointments_gender['percentage_appointments'] / all_appointments_total) * 100\n",
    "print(all_appointments_gender)"
   ]
  },
  {
   "cell_type": "markdown",
   "metadata": {},
   "source": [
    "Ok so around 65% of appointments are made by females, and 35% by males\n",
    "\n",
    "So how does this compare with the proportion of appointments for no-shows only by gender?"
   ]
  },
  {
   "cell_type": "code",
   "execution_count": 62,
   "metadata": {},
   "outputs": [
    {
     "name": "stdout",
     "output_type": "stream",
     "text": [
      "  gender  no-show\n",
      "0      F    14275\n",
      "1      M     7405\n"
     ]
    }
   ],
   "source": [
    "no_shows_by_gender = no_shows.groupby(['gender'], as_index=False)['no-show'].count() \n",
    "print(no_shows_by_gender)"
   ]
  },
  {
   "cell_type": "markdown",
   "metadata": {},
   "source": [
    "Now lets calculate the percentage appointments by gender for no-show appointments (and convert to a scalar)"
   ]
  },
  {
   "cell_type": "code",
   "execution_count": 63,
   "metadata": {},
   "outputs": [
    {
     "name": "stdout",
     "output_type": "stream",
     "text": [
      "0    65.844096\n",
      "1    34.155904\n",
      "Name: percentage_appointments, dtype: float64\n"
     ]
    }
   ],
   "source": [
    "no_shows_by_gender = no_shows_by_gender.rename(columns={'no-show': 'percentage_appointments'})\n",
    "no_shows_by_gender = (no_shows_by_gender['percentage_appointments'] / no_shows_total) * 100\n",
    "print(no_shows_by_gender)"
   ]
  },
  {
   "cell_type": "markdown",
   "metadata": {},
   "source": [
    "Ok well these percentages seem strangely familiar!\n",
    "\n",
    "Just to make things clearer, lets plot a graph of all appointments by gender v no-show appointments by gender.\n",
    "\n",
    "Set the x coordinate location for each rating group and and width of each bar."
   ]
  },
  {
   "cell_type": "code",
   "execution_count": 64,
   "metadata": {},
   "outputs": [],
   "source": [
    "ind = np.arange(len(all_appointments_gender))  # the x locations for the groups\n",
    "width = 0.35       # the width of the bars"
   ]
  },
  {
   "cell_type": "markdown",
   "metadata": {},
   "source": [
    "Lets plot the comparison graph"
   ]
  },
  {
   "cell_type": "code",
   "execution_count": 65,
   "metadata": {},
   "outputs": [
    {
     "data": {
      "text/plain": [
       "<matplotlib.legend.Legend at 0x7fe15f6a0e10>"
      ]
     },
     "execution_count": 65,
     "metadata": {},
     "output_type": "execute_result"
    },
    {
     "data": {
      "image/png": "iVBORw0KGgoAAAANSUhEUgAAAXsAAAETCAYAAADXmaY8AAAABHNCSVQICAgIfAhkiAAAAAlwSFlzAAALEgAACxIB0t1+/AAAADl0RVh0U29mdHdhcmUAbWF0cGxvdGxpYiB2ZXJzaW9uIDIuMS4wLCBodHRwOi8vbWF0cGxvdGxpYi5vcmcvpW3flQAAIABJREFUeJzt3Xd8FVX+//HXTUJJCCGgWECxgR9FMIh9Za3oYsdVWTu2dXXFtexakFVBEZC1rG0XC2CsoKjYQWxYfu6uihTb56siSAlgCxB6yu+PmcAlJmGS3JvCfT8fjzySqedz504+99wzZ87EysrKEBGRzVtaQwcgIiLJp2QvIpIClOxFRFKAkr2ISApQshcRSQFK9iIiKUDJXhotM4uZ2Vgz+8XM/tfQ8ZQzszPN7PWGjiPZzGyOmfVu6DhqwszONbP3GzqOxiijoQPY3JnZHGBroARYAbwKXObuRQ0Y1kbCGC909zcaOJSKegFHAtu5+4qGDqacuz8BPBFlXTM7l+DY9kpqUFWXP4fG+d5KPVPNvn4c7+7ZQE9gX+DvNd2BmaXiB/MOwJzGlOhl82Vm6Q0dQzKlYgJpMO6+wMxeA7oBmFkb4E7gGKAUGAvc5O4lYY3wj8D/gP7Av4C/m9kfgauA7YB5wFnuPs3MOgD3AgcDRcBd7n5PWM5goCuwGjgJ+B7o7+4fm9ljQCfgJTMrAW5295Fm9gzwWyATmAFc4u6fh/vbAngEOARwYDJwaHnt1cx2C2PZG/gBuMHdn67smIRxjyKoxf8M3ObuD5nZBcD9QDMzKwLucPebKmy7C/AQkAeUhXFc6u6F4fI5wAPA2cC2wMTwdaw2s0OBx8PjelV4zAaFtfby9+Ze4GhgZVjOMHcvrVhbN7My4BLgr8CWwJPAAGC38LWVv4Zid881s0fCfe4UHuMZwMnAdeF7vRg43d0/jTtGCXlvgXuAh8PXlQ58DRzn7osre3+Afc3snkqO32fAQHd/KYyjGVAA9Hb36RV3YmbXAFeG79ON4fHs4u7fmFkL4FagH9ACeB640t1Xxb1PdwHXEnxDvt7dx4b73YLg/+ZQ4CuCcyC+3CrPxfB9WEVQqTgEOBHYbL8BqWZfj8xse4LE/mk4Kx8oBjoDewFHARfGbbI/MBvYCrjVzE4FBgPnADnACcBPZpYGvESQNDoCRwBXmNnv4vZ1AjAOyAVeBO4DcPezCRLE8e6e7e4jw/VfA7qEZU9j42aL+wmapLYhSE79415jK2AKQcLbCjgd+JeZ7VHFYXkKmA90AE4BhpnZEe4+GrgY+DCM66ZKto0Bw8Ntdwe2D49PvDOB3wG7ALuy8beqbQiSc8fwNTxoZhYuuxdoA+xMkAjOAc6r4jUAHEfwrS2PIGn9zt2/rPAacuPW7xfGsiWwBviQ4DhvCUwgqASQhPe2f/i6tge2CONbVc3rqur4PQqcFbfeMUBBFYm+D8EHam+Cc/2QCqvcFu67R7i8I8EHQrltwpg7AhcA95tZ23DZ/QQfdNsC54c/5eVGORfPIPigaQ1s1m39qtnXj4lmVgwsBV4hSGhbE9Suct19FbDCzO4CLiKojQIsdPd7w7+LzexCYKS7fxTO+wbAzPYH2rv7zeH82Wb2EHAaG2o677v7q+H6jwFXVBewu48p/zusPf4S1naLCGqh3dx9JfCFmeUT1KwgSHpzymtewDQze5YgkX8eX0b44deLoGa5GphuZg8T1MTfrC6+MMZvyo8B8IOZ3QlU/FC4z93nheXdSpDE4xP+De6+BphqZq8A/cxsGPAHYC93Xw4sN7M7wrhGVxHOiPAbRaGZvU2QuCZVE/7z7v5JGNfzwJ/d/dFwejzBNwMIPkAS+d6uI0jynd19JvBJNetC1cfvceAGM8tx92UEx+axKvbRDxgb981wCOEHhZnFCL7B7unuP4fzhhEk6IFxMd/s7sXAq+G3JDOzjwjOxe5hU99n4bl4cLhdlHPxBXf/IPx79SaORZOmZF8/+la8QGZm3YFmQMGGyiRpBE0z5eL/hqA29m0l+98B6GBmhXHz0oH34qYXxf29EmhpZhnhP9BGwrbLW4FTgfYETUwQ1DozCc6bquLcAdi/QiwZVJ4IOgA/hwm13Fxgn0rW/RUz24qgWeK3BDWzNOCXCqvFxzY3LLPcLxWuB5Qv3xJoHk7HL+tYTTgVj2/2JsKPbzZZVcl0+fYJfW8J3oftgXFmlkuQtAe5+7oq4qz0+Ln7QjP7ADg5/LA6Gri8in10AD6uYp/tgSzgk7j/g1j4Gsv9VOG1lB/f9vz6XIx/z6KcixX/xzZbSvYNZx7B1/ctq/inhKB9s+I2u1Sxr+/cvUstY6lYzhkE7Ze9gTkEX6F/Ifgn/IGg6Wk74P/C9bevEMtUdz8yQrkLgXZm1jou4XcCFkSMe3gY+57u/pOZ9SVswogTH1unsMxybc2sVVzC7wR8BvxIUJvcAfiiFnHFq+uwsgl9b8OkPgQYYmY7EvQOc6r+xlLd8csnaHbMIGiqqur4FBCcL5Xt80eCD7c9qtm+KuXn4vYE7fXlMZaLci6mzLC/SvYNxN0Lwr7ad5jZDQTNIzsRdDOcWsVmDwN3hv2IpxEk/nUEF3GXmdm1BDXdtQRt2JlxTT7VWUzQNl2uNcEH0U8Eta5hcXGXmNlzwOCwWakTQXv29+EqLwMjzOxsgnZkCJo0isI27PhjMM/M/h8w3Mz+RtBuewEbtwVXpzVB01ihmXUErq5knUvN7GWC2uD1wPgKy4eY2fUE10eOY8MF8qcJrpOcA7QjaHO+PWJc8RYD25lZc3dfW4vtE/remtlhBAn2C2AZwflTUs321R2/iQQXuLcGRlaybbmngTFhE9Nc4trjwwveDwF3mdkAd18Svpfd3H1yFfsr3zb+XDwf2JHgmsSccJXI52Iq0AXahnUOQXPBFwQ15wkEF5oq5e7PEDSvPAksJ/hna+fuJcDxBCfydwT/zA8T1MijGE7Q06cwTLqPEvxTLghj+0+F9QeE+15E8JX4KYIPB8Ia+lEEbcoLw3VuI+hlUZnTCf5JFxL0wrjJ3adEjHsIQXfW8mshz1WyzpPA6wQXumcDQ+OWLSI47gsJLkBf7O7lNcTLCC5Czya4cPckMIaae4ugfXiRmf1Y042T8N5uQ3CeLQO+BKYSNOVUpcrjF15repagklLZsS9f7zWCD6q3Ca6xfBguWhP+vjac/x8zW0bQI8Yq7qcKAwiadBYR9BArb5+vzbm4WYvp4SVSV2Z2G7CNu/ff5Mr1yKq5oai8S5+7b1dxmURnZjcCu7p71G9jmNnuBM1lLappwpQEUzOO1FjYd7k5MIugt8gFbNxlVFKAmbUjeO/PjrDuSQTfvloR1K5fUqKvX2rGkdpoTfC1fQVBe+wdwAsNGpHUKwtu7psHvObu70bY5E8EF1S/JbhGcEkSw5NKqBlHRCQFqGYvIpIClOxFRFJAo7xA+8MPy9W2VAvZ2S0oKlqz6RVFGjmdy7XTvn3rWFXLVLPfjGRkbNYjtEoK0bmceEr2IiIpQMleRCQFKNmLiKQAJXsRkRSgZC8ikgKU7EVEUoCSvYhIClCyF0kBU6e+Ta9e+zB37pz18woKFnL22f0AmDbtY665ptrHEifNww+P4qOP/lvtOtOmfcysWTOSHkt9ldMQGuUdtFI7fZ8+keJ11T10aPP1+LFPN3QIkZx1VmZC9/f446sirffGG5PZc88evPHGZC644E8JjaGuLrzw4k2u8+mnn5CZmUX37nlJjaW+ymkIm2WyT/Q/VFORcU5DRyCN0cqVK5k1awb33DOK6667qkbJvqBgIbfcciOrVwcfKldeeQ3du+cxbdrHjB79ADk5bZg3by55eXvx179eR1paGkce+VtOOOH3fPrpx7RuncPgwcNo27YtX3/t/OMfw1mzZjUdOmzHwIE3kpOTw623DuY3v+nFYYf15pRTjufoo4/jP/95nzVr1nLLLbfRvHlzXnjhOdLS0nj99de48sqrefnlF2jRogVz585h0aJFXH/9jbz22st8/vksunbtxqBBgwH43//+w+jRD7Bu3Vo6dNiO66+/iaysrPXlfPDBuxQXF1dZzk8//cTYsQ+SlpZOdnY299//UDLeonqhZhyRzdx7773D/vsfSKdOO5CT04YNT17ctLZt23HXXfczZswTDBkynH/+c8NjeL/88nMGDLiC/PxxLFgwn6lT3wJg1apVmO3GmDFP0KNHT8aOfRCAoUNv4pJLLiM/fxy77NKZsWMrT5xt2rThmWeepW/fU3jqqcfYdtsOnHji7+nX7wweeeRJ8vL2AmD58mXcc88o/vKXK7n22qv4wx/O5LHHnubbb7/h66+dwsJC8vNH889//osxY55gt912Z/z4JzYqZ8yYJ6ot55FHHuLOO+8jP/8pRoy4s8bHvjFRshfZzL3xxmR69z4KgCOOOIo33qj2Od4bKS4uZuTIoZxzzh+44YbrmDNn9vplu+++Bx07bkd6ejq9e/+OmTODtu60tDQOP/xIAI466mhmzpxBUVERy5cvZ6+99gbg6KOPY8aMaZWWecghhwNgtjsFBQVVxnbQQQcTi8XYeefOtGvXjl126UxaWho77bQzBQUFfP75LObMmc0ll1zAueeewaRJr7Bo0Yb9RSmne/c8br11MC+++DylpU27iXSzbMYRkcDSpYV88snHzJ79LbFYjNLSUgD+/Oe/RNp+/PgnaNt2Cx555ClKS0s54oiD1i+LxTYeYDFWxXiLVc2vSrNmzQFIT0+jpKTqJxc2a9YMCD5cyv8uny4pKSYtLY199tmfIUOG1bqcq6++ns8//4wPP3yf8847k7Fjn6BNm9yavaBGQjV7kc3Y22+/SZ8+x/Dssy8zYcJLPPfcK3To0JGZM6dH2n7FiiK22GJL0tLSmDz5VUpKNtRuv/jicxYuXEBpaSlvvTWFPffsAUBpaSnvvPMmAFOmTGLPPXuQnZ1N69Y5zJjxKQCTJr1Cjx49I7+OrKxWrFq1MvL6AHvs0Z1Zs2Ywf/48AFavXs3338+tUTkLFsxnjz26ceGFF9OmTRuWLFlcoxgaE9XsRTZjb7wxmbPOOnejeYcccjhTpkzizDP7b3L7k046lb///RrefvsNevbch8zMDZ0funXrzqhR9zF79jfk5e3FwQcfBkBmZibffTeb888/i+zsbIYMGQ7A3/8+OO4CbUcGDrwp8us46KDfcsMN1/Lee1O58sqrI23Ttm1bBg0azODBg1i3bi0Af/zjJXTqtEPkcsaPf5L587+nrKyMvffej86dd40cc2PTKJ9BW9eHl6Rub5y+6nop9WLatI8ZN+5xRo7856+WHXnkb5ky5b067T83N4vCwprV5EUPLxERSXlqxhGRGuvZcx969tyn0mV1rdVLcqhmLyKSApTsRURSgJK9iEgKULIXEUkBSvYim7levfbh3nvvWj/95JOPMXr0A3Xe74ABF/HVV1/UeT8N5f33p/LYY49Uu05BwUJef31S0mOpj3KS2hvHzHKBh4FuQBlwPuDAeGBHYA7Qz91/SWYcIo3FWa/0S+j+otxf0Lx5c959923OPvs8cnOb5q3+ydCr1yH06nVItesUFCzkjTcmcdRRfZIaS32Uk+yul3cDk9z9FDNrDmQB1wNvuvsIM7sOuA64NslxiKSs9PR0TjjhJMaPf4I//enSjZYtWlTA8OE3U1j4C7m5bRk48Ca22WabjdYpKSlhxIhb+OqrL4jFYhx77An84Q9nAvDWW29wxx0jWL68iIEDbyAvby/WrFnDHXeM4KuvviA9PZ3LLruKnj334W9/+wsXX3wZnTt34bzzzuDggw/jvPP+yEMP/ZttttmW44/vu1G5Awf+lcWLF7N27VpOPfU0Tjzx9wBVDqE8YMBFdOlifPnl56xYUcTAgTfStWs3li1byvDhN7Nw4QJatGjJNdcMonPnLrz66kt89dUXXHXVtdx662BatWrFV199yU8//cSf/3wZhx3Wm1Gj7mPu3O8499wzOProY2ndOof33nuHkpJSvvvuW0477UzWrVvH5Mmv0qxZc26//W5yctqwYMF87rjjNgoLf6Fly5Zce+3f2WGHHSOXs+++BzB8+BDWrSumrKyUoUNHsv32nep0HiStGcfMcoCDgdEA7r7W3QuBE4H8cLV8oG/lexCRRPn9709lypRJFBUVbTT/zjtH0qfPseTnj+PII/tw993/+NW2X3/9f/zwwxIee+xpHn10PMccc8L6ZSUlJTz00KNcfvlVjBkTDFn83HPPAPDoo+MZPHgYQ4fexJo1a8jL68mMGZ+yYkUR6ekZ658INXPmdPLyevyq3IEDb2TMmMcZPfpRJkwYx9KlhUDVQygDrF69ilGjxvDXv17H8OE3AzB69AN06WLk54/jT3+6lKFDKx+m4ccff+Rf/3qYkSPvYtSo+wC4+OIB4VDHT67/gJs9+1sGDx7Kgw/m8+CD/6Jly5aMHfsk3bp1Z9KkVwAYOfJWrrzyasaMeZxLL72CO+4YUaNyXnjhWU499XQeeeRJHn74MbbaaqvK39gaSGbNfmfgB2CsmeUBnwCXA1u7ewGAuxeYWd1fhYhUq1WrbPr0OZYJE8bRvHmL9fM//3wmw4YFCb5Pn2P597/v+dW2HTp0ZOHCBdx110gOPLAX++13wPplhxwSjIdjtjuLFi0EguR9yil/AGCHHXZkm222Zd6878nL68GECePp0KEDBx54EB9//F9Wr17NokUFdOq046/KfeaZcbz77jsALFmymHnz5tGmTe6vhlAeNOia9dv07v07AHr06MmKFStYvnw5M2dOZ+jQkQDsvfe+LFu29FcfegAHH3zo+iGSf/755yqPZc+e+5CV1YqsrFa0apXNQQcdDMDOO3fm22+/CR8WM5Mbbrhu/TblY/NELWePPfbk0UfHsGTJYg455PA61+ohuck+A+gJXObu/zWzuwmabDYpO7sFGRnptS84IzWvO8diMTKa1f64NWW5uVkNHUIkiX5/or7u3Nws/vjH8zn11FPo2/ckWrZsRm5uFrFYjDZtMmnWrBnr1q0jLS2N1q1b0K/fKQAcdtjhDBhwGRMnTuSDDz5g4sTneP/9txk69FYyMtJp1y6H3NwsysrWUFZWSm5uFs2apZGd3WJ9bBkZabRu3ZK8vN0ZNmwIO+20A716/YbVq1cwZcordOvW7Vev45NPPmL69E8YN24cmZmZnHtuf5o3j61fLzc3i4yMDJYvzyQjIy2cTqd165br10lLC9ZPS4uRk5O5fn4sFszPympOixbBcWjePIPc3Oy4OMrIzc0iO7slGRnp6+dnZTUnOzsr7rWls+WWbeLWjZGT05KcnNZMnDjxV+9D1HL69fs9BxywD+++O5Wrr/4LQ4bczP77H/Cr/dVEMpP9fGC+u5c/SXgCQbJfbGbbhrX6bYElFTcsKlpTp4KLi1N0ILSyspQdCK2pDJqV6Pcn6usO1mvOoYcewYQJEzj22BMoLFzJHnt059lnJ9Knz7G8+upLdOuWx/Llaxg9esMTnebMWUizZhnsu28vcnPbc+utQygsXElxcQlFRaspLFzJ0qWrKC0to7BwJV277slzz03EbE++/34uCxYspG3brVmxopgtt2zPa6+9xumnn8tuuy3i/vvv5rTTzvrV61i6dBmZma1Ys6aM//u/L8IHoARllZaWMnHiS/Tu/TueffZ59thjz/XxvPDCS+y6a3dmzJhOVlYrSkrS6d69B88++zznnnsh06Z9TE5ODsXFaaxcuZY1a9ZRWLiStWuLWbFizUZxBGWls2zZ8vXz47cBKC0tY+nSVcRiLdYvKy5OY5ttOvDccy9y+OG9KSsr45tvvqZLl10jl7NgwXw6dOjIccedzLffzmHGjM8w23OT73P79q2rXJa0ZO/ui8xsnpmZuztwBPBF+NMfGBH+fiFZMYjIxk477SyefXZDD54rrria4cNv5qmnHlt/gbaiH35YwvDhQygtDQajrXiRt6KTTjqV228fzjnn/IH09HQGDRpM8+bBg0Ly8vbik08+omXLluTl7cWSJYvXP2YwXq9ev+WJJ56if//T2H77Hejatdv6ZVUNoQzQunUOF198/voLtADnn38Rw4YNoX//02jRoiWDBg2JfLw6d+5Ceno6/fufzjHHHEfr1jmRtrvxxlu4/fYR5OePpqSkmCOOOIouXaoeHrliOWvXrmXy5NfIyMigXbstOO+8CyPHXJWkDnFsZj0Iul42B2YD5xFcFH4a6AR8D5zq7hs1XGmI49rREMeyuahuiOOqhlAeMOAiBgy4gt1265rs8Bqt6oY4TmrXS3efDlQ2NN4RySxXREQ2piGORaRJqWoI5fvue7DS+RJIzW4rIiIpRsleRCQFKNmLiKQAJXsRkRSgZC8ikgKU7EVEUoCSvYhIClCyFxFJAUr2IiIpQMleRCQFKNmLiKQAJXsRkRRQo2RvZm0tygj6IiLSqGxy1Eszewc4IVx3OvCDmU1196uSHJuIiCRIlJp9G3dfBvweGOvuewO9kxuWiIgkUpRknxE+K7Yf8HKS4xERkSSIkuyHAJOBb9z9IzPbGfg6uWGJiEgiRXlSVYG7r78o6+6zzezOJMYkIiIJFqVmf2/EeSIi0khVWbM3swOB3wDtzSy+500OkJ7swEREJHGqa8ZpDmSH67SOm78MOCWZQYmISGJVmezdfSow1cwecfe5tdm5mc0BlgMlQLG772Nm7YDxwI7AHKCfu/9Sm/2LiEg0US7QtjCzBwmS8/r13f3wiGUc5u4/xk1fB7zp7iPM7Lpw+tqI+xIRkVqIkuyfAUYBDxPU0OvqRODQ8O984B2U7EVEkipKsi9293/Xcv9lwOtmVgY84O4PAlu7ewGAuxeY2Va13LeIiEQUJdm/ZGZ/Bp4H1pTPdPefI2x7kLsvDBP6FDP7KkpQ2dktyMiofYefjIzUHMwzFouR0Sw1O0rl5mY1dAiSQOnpaXpPEyxKsu8f/r46bl4ZsPOmNnT3heHvJWb2PLAfsNjMtg1r9dsCSypuV1S0puKsGikuzqzT9k1VRlkZxesS0dLW9BQWrmzoECSBcnOz9J7WQvv2ratctslk7+471aZQM2sFpLn78vDvo4CbgRcJPkBGhL9fqM3+RUQkuihDHGcBVwGd3P0iM+sCmLtvalC0rYHnzay8nCfdfZKZfQQ8bWYXAN8Dp9bpFYiIyCZFacYZC3xCcDctwHyCHjrVJnt3nw3kVTL/J+CImoUpIiJ1EeVK5i7uPhJYB+Duq4BYUqMSEZGEipLs15pZJsFFWcxsF+J65YiISOMXpRnnJmASsL2ZPQEcBJybzKBERCSxovTGmWJm04ADCJpvLq8w/IGIiDRyUe8+6kgwrHFz4GAz+33yQhIRkUSL0vVyDLAn8DlQGs4uA55LYlwiIpJAUdrsD3D3rkmPREREkiZKM86HZqZkLyLShEWp2ecTJPxFBF0uY0BZ/EPIRUSkcYuS7McAZwOz2NBmLyIiTUiUZP+9u7+Y9EhERCRpoiT7r8zsSeAlNh7PXr1xRESaiCjJPpMgyR8VN09dL0VEmpAoyf5hd/8gfoaZHZSkeEREJAmidL28N+I8ERFppKqs2ZvZgQRj2Lc3s6viFuUQDJ0gIiJNRHXNOM2B7HCd+AcbLgNOSWZQIiKSWFUme3efCkw1s0fcfW49xiQiIgkW5QJtCzN7ENgxfn13PzxZQYmISGJFSfbPAKOAh4GS5IYjIiLJECXZF7v7v5MeiYiIJE2UZP+Smf0ZeJ6N76D9OWlRiYhIQkVJ9v3D31fHzSsDdk58OCIikgxRnkG7U10KMLN04GNggbsfZ2Y7AeOAdsA04Gx3X1uXMkREpHrV3VR1uLu/VdXzZmswENrlwJcEN2MB3Abc5e7jzGwUcAGgawIiIklU3XAJh4S/j6/k57goOzez7YBjCXryYGYx4HBgQrhKPtC3xlGLiEiNVHdT1U3h7/PqsP9/Atew4Q7cLYBCdy8Op+cDHStulJ3dgoyM2o/IkJERZcifzU8sFiOjWWqOZJGbm9XQIUgCpaen6T1NsE222ZtZG+Am4OBw1lTgZndfuontjgOWuPsnZnZoODtWyaplFWcUFa2pZLXoiosz67R9U5VRVkbxutS8FaKwcGVDhyAJlJubpfe0Ftq3b13lsihV4DHAcqBf+LMMGBthu4OAE8xsDsEF2cMJavq5Zlb+IbMdsDDCvkREpA6idL3cxd1PjpseYmbTN7WRuw8EBgKENfu/ufuZZvYMwUBq4wi6db5Q46hFRKRGotTsV5lZr/KJ8MElq+pQ5rXAVWb2DUEb/ug67EtERCKIUrO/BMgP2+5jwM9suNEqEnd/B3gn/Hs2sF+NohQRkTqJclPVdCDPzHLC6WVJj0pERBIqSm+cLQh64/QCyszsfYLeOD8lOzgREUmMKG3244AfgJMJLqz+AIxPZlAiIpJYUdrs27n7LXHTQ81Md72KiDQhUZL922Z2GvB0OH0K8EryQhIRkUSL0ozzJ+BJYG34M46g6+RyM9PFWhGRJiBKb5yq778VEZEmIUozDuEwx70IxrF5z90nJjUqERFJqE0245jZv4CLgVnAZ8DFZnZ/sgMTEZHEiVKzPwTo5u5lAGaWT5D4RUSkiYhygdaBTnHT2wMzkxOOiIgkQ5Sa/RbAl2b2v3B6X+BDM3sRwN1PSFZwIiKSGFGS/Y1Jj0JEKnXWWan5IJ6XX27oCDY/UbpeTq2PQEREyvV9+sSUfera48c+vemVaiHKQGgHAPcCuwPNgXRghbvnJCUiERFJuCgXaO8DTge+BjKBC8N5IiLSRERJ9rj7N0C6u5e4+1jg0KRGJSIiCRXlAu1KM2sOTDezkUAB0Cq5YYmISCJFqdmfHa43AFhB0M/+5Gq3EBGRRiVKb5y54Z+rgSHJDUdERJIhUpu9iIg0bUr2IiIpINIQxwBm1srdV9Rg/ZbAu0CLsJwJ7n6Tme1E8ACUdsA04Gx3X1uzsEVEpCaiDHH8GzP7AvgynM4Lhz3elDXA4e6eB/QA+oQ3aN0G3OXuXYBfgAtqHb2IiEQSpRnnLuB3wE8A7j4DOHhTG7l7mbsXhZPNwp8y4HBgQjg/H9DkCLOMAAAMbElEQVTDy0VEkizqTVXzKsyKNGiFmaWb2XRgCTAF+BYodPficJX5QMeIsYqISC1FabOfZ2a/AcrCm6v+QtiksynuXgL0MLNc4HmC8XUqKqs4Izu7BRkZ6VGKqFRGRmped47FYmQ0q/1xa8pyc7MaOoSk0LmcepJ1LkdJ9hcDdxPUwOcDrwOX1qQQdy80s3eAA4BcM8sIa/fbAQsrrl9UtKYmu/+V4uLUHBY2o6wsZUcKLCxc2dAhJIXO5dRTl3O5ffvWVS6LclPVj8CZNS3UzNoD68JEnwn0Jrg4+zZwCkGPnP7ACzXdt4iI1EyUIY7vqWT2UuBjd68uUW8L5JtZOsG1gafd/eWwZ884MxsKfAqMrkXcIiJSA1GacVoCuwHPhNMnA58DF5jZYe5+RWUbuftMYK9K5s8G9qtduCIiUhtRkn1ngv7yxQBm9m+CdvsjgVlJjE1ERBIkyqX+jmw8pHEroEPY06ZuV1JFRKReRKnZjyQYy/4dIEZwQ9UwM2sFvJHE2EREJEGi9MYZbWavErSzx4Dr3b28u+TVyQxOREQSI+odG6sJnlD1M9DZzDY5XIKIiDQeUbpeXghcTnAD1HSCG6M+JBjjRkREmoAoNfvLgX2Bue5+GEF3yh+SGpWIiCRUlGS/2t1XA5hZC3f/CrDkhiUiIokUpTfO/HAgs4nAFDP7hUrGsxERkcYrSm+ck8I/B5vZ20Ab4LWkRiUiIgkV5UlVj5X/7e5T3f1FYExSoxIRkYSK0ma/R/xEOLDZ3skJR0REkqHKZhwzGwhcD2Sa2bJwdgxYCzxYD7GJiEiCVJns3X04MNzMhrv7wHqMSUREEizKBdqBZtYR2CF+fXd/N5mBiYhI4kS5g3YEcBrwBRseNF4GKNmLiDQRUfrZnwSYu2s4YxGRJipKb5zZQLNkByIiIskTpWa/kmA8+zeJe1iJu/8laVGJiEhCRUn2L4Y/IiLSREXpjZNvZplAJ3f3eohJREQSLMpwCccTjGM/KZzuYWaq6YuINCFRLtAOJngkYSGAu08HdkpiTCIikmBR2uyL3X2p2UZD2JdtaiMz2x54FNgGKAUedPe7zawdMB7YEZgD9HP3X2oYt4iI1ECUmv1nZnYGkG5mXczsXuD/RdiuGPiru+9O8CjDS82sK3Ad8Ka7dwHeDKdFRCSJoiT7ywhGvlwDPAksBa7Y1EbuXuDu08K/lwNfAh2BE4H8cLV8oG/NwxYRkZqI0htnJTAo/KkVM9uR4Nm1/wW2dveCcN8FZrZVxfWzs1uQkZFe2+LIyIjyGbb5icViZDSr/XFrynJzsxo6hKTQuZx6knUuRxkbZwpwqrsXhtNtgXHu/rsoBZhZNvAscIW7L6vQ9l+poqK6jcxQXJxZp+2bqoyyMorXlWx6xc1QYeHKhg4hKXQup566nMvt27euclmUasOW5YkeILyY+qvaeGXMrBlBon/C3Z8LZy82s23D5dsCS6LsS0REai9Ksi81s07lE2a2A9F648SA0cCX7n5n3KIXgf7h3/2BF6KHKyIitRGl6+Ug4H0zmxpOHwxcFGG7g4CzgVlmNj2cdz0wAnjazC4AvgdOrVnIIiJSU1Eu0E4ys54E3SdjwJXu/mOE7d4P16/METWKUkRE6iTKcAkxoA/Q091fArLMbL+kRyYiIgkTpc3+X8CBwOnh9HLg/qRFJCIiCRcl2e/v7pcCq2F9b5zmSY1KREQSKkqyX2dm6YQ9cMysPcFYNyIi0kRESfb3AM8DW5nZrcD7wLCkRiUiIgkVpTfOE2b2CUEPmhjQ192/THpkIiKSMFUmezNrCVwMdAZmAQ+4e3F9BSYiIolTXTNOPrAPQaI/Gri9XiISEZGEq64Zp6u7dwcws9HA/+onJBERSbTqavbryv9Q842ISNNWXc0+z8yWhX/HgMxwOgaUuXtO0qMTEZGEqDLZu3tqPjlARGQzlJqPwRERSTFK9iIiKUDJXkQkBSjZi4ikACV7EZEUoGQvIpIClOxFRFKAkr2ISApQshcRSQFK9iIiKWCTDy+pLTMbAxwHLHH3buG8dsB4YEdgDtAvfKatiIgkUTJr9o8AfSrMuw540927AG+G0yIikmRJS/bu/i7wc4XZJxI8FIXwd99klS8iIhvUd5v91u5eABD+3qqeyxcRSUlJa7Ovi+zsFmRk1H6E5YyM1LzuHIvFyGiWmiNT5+ZmNXQISaFzOfUk61yu72S/2My2dfcCM9sWWFLZSkVFa+pUSHFxZp22b6oyysooXlfS0GE0iMLClQ0dQlLoXE49dTmX27dvXeWy+q42vAj0D//uD7xQz+WLiKSkZHa9fAo4FNjSzOYDNwEjgKfN7ALge+DUZJUvIiIbJC3Zu/vpVSw6IllliohI5VLz6o+ISIpRshcRSQFK9iIiKUDJXkQkBSjZi4ikACV7EZEUoGQvIpIClOxFRFKAkr2ISApQshcRSQFK9iIiKUDJXkQkBSjZi4ikACV7EZEUoGQvIpIClOxFRFKAkr2ISApQshcRSQFK9iIiKUDJXkQkBSjZi4ikACV7EZEUoGQvIpICMhqiUDPrA9wNpAMPu/uIhohDRCRV1HvN3szSgfuBo4GuwOlm1rW+4xARSSUN0YyzH/CNu89297XAOODEBohDRCRlNEQzTkdgXtz0fGD/+BXat28dq0sBkyfXZeum7OWGDkASTOeyJEpD1OwrS+Rl9R6FiEgKaYhkPx/YPm56O2BhA8QhIpIyGqIZ5yOgi5ntBCwATgPOaIA4RERSRqysrP5bUMzsGOCfBF0vx7j7rfUeRCNjZiXArLhZfd19TpLKOhfYx90HJGP/IpUxszLgcXc/O5zOAAqA/7r7cdVsdyjwt+rWkU1rkH727v4q8GpDlN2IrXL3Hg0dhEgSrQC6mVmmu68CjiT4di/1oEGSvUQT3pMwAjgUaAHc7+4PhDWdIcBioAfwHMG3gsuBTIJvBd+a2fHA34HmwE/Ame6+uEIZ7YFRQKdw1hXu/kGSX5qkrteAY4EJwOnAU8BvAcxsP4Jv/JnAKuA8d/f4jc2sFXAv0J0gfw129xfqLfomTMMlNB6ZZjY9/Hk+nHcBsNTd9wX2Bf4YXusAyCNI7t2Bs4Fd3X0/4GHgsnCd94ED3H0vgvsZrqmk3LuBu8IyTg63F0mWccBpZtYS2BP4b9yyr4CDw/P1RmBYJdsPAt4Kz9fDgH+EHwCyCarZNx6VNeMcBexpZqeE022ALsBa4CN3LwAws2+B18N1ZhH8E0DQ02m8mW1LULv/rpJyewNdzax8OsfMWrv78gS8JpGNuPtMM9uRoFZfsSm3DZBvZl0IumM3q2QXRwEnmNnfwumWBN9Kv0xOxJsPJfvGLQZc5u4b3VoTNuOsiZtVGjddyob39V7gTnd/MdxmcCVlpAEHhm2oIvXhReB2gubJLeLm3wK87e4nhR8I71SybQw4uWLzjmyamnEat8nAJWbWDMDMdq3hV9Y2bLgA1r+KdV4H1vfKMTNdJJZkGwPc7O6zKsyPP1/PrWLbycBlZhYDMLO9khLhZkg1+8btYWBHYFp4cv8A9K3B9oOBZ8xsAfAfYKdK1vkLcL+ZzSQ4H94FLq5DzCLVcvf5BNeKKhpJ0IxzFfBWFZvfQnARd2b4PzEHUJfMCBqkn72IiNQvNeOIiKQAJXsRkRSgZC8ikgKU7EVEUoCSvYhIClDXS0kpZrY1cBdwAPALwd3II939+Wo33PR+D0UjM0ojppq9pIywX/ZE4F1339nd9yZ4nsJ2DRCLKlpSr3TCSSo5HFjr7qPKZ7j7XODeTYwwOhj4EegGfAKc5e5lZtaH4AafH4Fp5fusamTG8DkCxxKM59IqjEekXqhmL6lkD+KScgXVjTC6F3AF0BXYGTgoHLXxIeB4giF6t4nbV3UjMx4I9Hd3JXqpV6rZS8oys/uBXgTt9nOpeoTR/4W3+GNm0wmGsCgCvnP3r8P5jwMXhdtWNTIjwBR3/zmZr0ukMkr2kko+JxizHwB3v9TMtgQ+Br4n2gijJWz4v6lqrJFKR2Y0s/0JntYkUu/UjCOp5C2gpZldEjcvK/xd0xFGvwJ2MrNdwunT45ZpZEZpdJTsJWW4exnBqKGHmNl3ZvY/IB+4lmCE0S8IRhj9DHiAar75uvtqgmabV8zsfYJmoHK3EDx4Y2a4r1uS8XpEakKjXoqIpADV7EVEUoCSvYhIClCyFxFJAUr2IiIpQMleRCQFKNmLiKQAJXsRkRSgZC8ikgL+Px/q51sKLDGEAAAAAElFTkSuQmCC\n",
      "text/plain": [
       "<matplotlib.figure.Figure at 0x7fe15f600ac8>"
      ]
     },
     "metadata": {},
     "output_type": "display_data"
    }
   ],
   "source": [
    "# plot bars\n",
    "all_appointment_bars = plt.bar(ind, all_appointments_gender, width, color='b', alpha=.7, label='All appointments')\n",
    "no_show_bars = plt.bar(ind + width, no_shows_by_gender, width, color='g', alpha=.7, label='No-show appointments')\n",
    "\n",
    "# title and labels\n",
    "plt.ylabel('Pecentage appointments')\n",
    "plt.xlabel('Gender')\n",
    "plt.title('Percentage of appointments by gender')\n",
    "locations = ind + width / 2  # xtick locations\n",
    "labels = ['Female', 'Male']  # xtick labels\n",
    "plt.xticks(locations, labels)\n",
    "\n",
    "# legend\n",
    "plt.legend()"
   ]
  },
  {
   "cell_type": "markdown",
   "metadata": {},
   "source": [
    "It seems the proportion of male to female is virtually identical for both groups.\n",
    "\n",
    "#### We can see therefore than gender appears to have little effect on no-shows."
   ]
  },
  {
   "cell_type": "markdown",
   "metadata": {},
   "source": [
    "> As a side note, given on average globally the proportion of male to females is roughly equal (if anything, with a slight bias towards males i.e. 105 males per 100 females, see reference link below) this data also suggests females are far more likely to make appointments than males! (or alternatively, males are less likely to even make an appointment than females). That being said, for those that actually make appointments - there is no difference between the genders for no-shows based on this data.\n",
    "\n",
    "> http://www.searo.who.int/entity/health_situation_trends/data/chi/sex-ratio/en/"
   ]
  },
  {
   "cell_type": "markdown",
   "metadata": {},
   "source": [
    "### Research Question 3 - Does age effect no shows?"
   ]
  },
  {
   "cell_type": "markdown",
   "metadata": {},
   "source": [
    "Firstly, lets look at the distribution of ages accross all appointments"
   ]
  },
  {
   "cell_type": "code",
   "execution_count": 66,
   "metadata": {},
   "outputs": [
    {
     "data": {
      "text/plain": [
       "count    106987.000000\n",
       "mean         38.316085\n",
       "std          22.466214\n",
       "min           1.000000\n",
       "25%          19.000000\n",
       "50%          38.000000\n",
       "75%          56.000000\n",
       "max         115.000000\n",
       "Name: age, dtype: float64"
      ]
     },
     "execution_count": 66,
     "metadata": {},
     "output_type": "execute_result"
    }
   ],
   "source": [
    "all_appointments['age'].describe()"
   ]
  },
  {
   "cell_type": "markdown",
   "metadata": {},
   "source": [
    "It may help to view this distribution as a histogram:"
   ]
  },
  {
   "cell_type": "code",
   "execution_count": 67,
   "metadata": {},
   "outputs": [
    {
     "data": {
      "text/plain": [
       "Text(0.5,1,'Distribution of ages for all appointments')"
      ]
     },
     "execution_count": 67,
     "metadata": {},
     "output_type": "execute_result"
    },
    {
     "data": {
      "image/png": "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\n",
      "text/plain": [
       "<matplotlib.figure.Figure at 0x7fe15f5cb2e8>"
      ]
     },
     "metadata": {},
     "output_type": "display_data"
    }
   ],
   "source": [
    "aaplot = all_appointments['age'].hist(figsize=(10,5))\n",
    "aaplot.set_xlabel(\"Age\")\n",
    "aaplot.set_ylabel(\"Number of appointments\")\n",
    "aaplot.set_title(\"Distribution of ages for all appointments\")"
   ]
  },
  {
   "cell_type": "markdown",
   "metadata": {},
   "source": [
    "Ok so for all appointments there is a right skew to the ages, which begins around aged 60 tailing off quite quickly, with a fairly even distribution of ages before that from ages 0-60 for the given bucket sizes.\n",
    "\n",
    "The median age is 38.0 and the mean age is 38.31.\n",
    "\n",
    "Now lets look at the distribution of ages accross no show appointments"
   ]
  },
  {
   "cell_type": "code",
   "execution_count": 68,
   "metadata": {},
   "outputs": [
    {
     "data": {
      "text/plain": [
       "count    21680.000000\n",
       "mean        35.329151\n",
       "std         21.470631\n",
       "min          1.000000\n",
       "25%         18.000000\n",
       "50%         33.000000\n",
       "75%         52.000000\n",
       "max        115.000000\n",
       "Name: age, dtype: float64"
      ]
     },
     "execution_count": 68,
     "metadata": {},
     "output_type": "execute_result"
    }
   ],
   "source": [
    "no_shows['age'].describe()"
   ]
  },
  {
   "cell_type": "markdown",
   "metadata": {},
   "source": [
    "So there are definately some differences with this distribution, for example a lower mean and median age.\n",
    "\n",
    "Again it may help to view this as a histogram."
   ]
  },
  {
   "cell_type": "code",
   "execution_count": 69,
   "metadata": {},
   "outputs": [
    {
     "data": {
      "text/plain": [
       "Text(0.5,1,'Distribution of ages for no-show appointments')"
      ]
     },
     "execution_count": 69,
     "metadata": {},
     "output_type": "execute_result"
    },
    {
     "data": {
      "image/png": "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\n",
      "text/plain": [
       "<matplotlib.figure.Figure at 0x7fe15f6fbe80>"
      ]
     },
     "metadata": {},
     "output_type": "display_data"
    }
   ],
   "source": [
    "nsplot = no_shows['age'].hist(figsize=(10,5))\n",
    "nsplot.set_xlabel(\"Age\")\n",
    "nsplot.set_ylabel(\"Number of appointments\")\n",
    "nsplot.set_title(\"Distribution of ages for no-show appointments\")"
   ]
  },
  {
   "cell_type": "markdown",
   "metadata": {},
   "source": [
    "Ok so for no show appointments there is also a right skew to the ages, but this one begins much earlier around age 40 and again tailing off quite quickly, with a fairly even distribution of ages before that from ages 0-40 for the given bucket sizes.\n",
    "\n",
    "The median age is 33.0 and the mean age is 35.32.\n",
    "\n",
    "#### This seems to indicate that there is a higher proportion of younger people (aged under 40) that don't turn up for appointments. This is further illustrated by the fact that the mean and median age are far lower than for all appointments.\n",
    "\n",
    "We can perhaps observe this difference more clearly if we look at the histograms for these two distributions side by side:"
   ]
  },
  {
   "cell_type": "code",
   "execution_count": 70,
   "metadata": {},
   "outputs": [
    {
     "data": {
      "text/plain": [
       "Text(0,0.5,'Number of appointments')"
      ]
     },
     "execution_count": 70,
     "metadata": {},
     "output_type": "execute_result"
    },
    {
     "data": {
      "image/png": "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\n",
      "text/plain": [
       "<matplotlib.figure.Figure at 0x7fe15fe1bdd8>"
      ]
     },
     "metadata": {},
     "output_type": "display_data"
    }
   ],
   "source": [
    "fig, axes = plt.subplots(1, 2)\n",
    "all_appointments['age'].hist(ax=axes[0],figsize=(20,5))\n",
    "no_shows['age'].hist(ax=axes[1],figsize=(20,5))\n",
    "axes[0].set_title('Distribution of ages for all appointments')\n",
    "axes[0].set_xlabel(\"Age\")\n",
    "axes[0].set_ylabel(\"Number of appointments\")\n",
    "axes[1].set_title('Distribution of ages for no-show appointments')\n",
    "axes[1].set_xlabel(\"Age\")\n",
    "axes[1].set_ylabel(\"Number of appointments\")"
   ]
  },
  {
   "cell_type": "markdown",
   "metadata": {},
   "source": [
    "Side by side, we can see these differences in the distributions more clearly.\n",
    "\n",
    "Lets also look at Box plots of both distributions side by side:"
   ]
  },
  {
   "cell_type": "code",
   "execution_count": 71,
   "metadata": {},
   "outputs": [
    {
     "data": {
      "image/png": "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\n",
      "text/plain": [
       "<matplotlib.figure.Figure at 0x7fe15f5dd710>"
      ]
     },
     "metadata": {},
     "output_type": "display_data"
    }
   ],
   "source": [
    "age_compare = pd.DataFrame()\n",
    "age_compare['All appointments'] = all_appointments['age'] \n",
    "age_compare['No shows'] = no_shows['age'] \n",
    "age_compare.boxplot(figsize=(4,10), grid=True, widths=0.9)\n",
    "plt.title('Ages of no-shows v all appointments')\n",
    "plt.ylabel('Age')\n",
    "plt.show()"
   ]
  },
  {
   "cell_type": "markdown",
   "metadata": {},
   "source": [
    "Here we can see the difference in the medians (shown in green) more clearly, the plots also illustrate how the no show appointments have a higher proportion of younger people, where the median & box are literally being dragged lower by having more of these lower ages in the no-show group.\n",
    "\n",
    "##### This data therefore seems to suggest that age may indeed be a factor that can help predict the likelihood of no shows."
   ]
  },
  {
   "cell_type": "markdown",
   "metadata": {},
   "source": [
    "### Research Question 4 - Does getting an SMS effect no shows?"
   ]
  },
  {
   "cell_type": "markdown",
   "metadata": {},
   "source": [
    "Let us first examine those that get an SMS.\n",
    "\n",
    "What is the total of all appointments that get an SMS reminder v those that don't get one?"
   ]
  },
  {
   "cell_type": "code",
   "execution_count": 72,
   "metadata": {},
   "outputs": [
    {
     "name": "stdout",
     "output_type": "stream",
     "text": [
      "sms_received\n",
      "0    72402\n",
      "1    34585\n",
      "dtype: int64\n"
     ]
    }
   ],
   "source": [
    "all_appointments_by_sms = all_appointments.groupby(['sms_received'], as_index=False).size()\n",
    "print(all_appointments_by_sms)"
   ]
  },
  {
   "cell_type": "markdown",
   "metadata": {},
   "source": [
    "Lets now convert this to a percentage"
   ]
  },
  {
   "cell_type": "code",
   "execution_count": 73,
   "metadata": {},
   "outputs": [
    {
     "name": "stdout",
     "output_type": "stream",
     "text": [
      "sms_received\n",
      "0    67.673643\n",
      "1    32.326357\n",
      "dtype: float64\n"
     ]
    }
   ],
   "source": [
    "all_appointments_by_sms_percentage = (all_appointments_by_sms / all_appointments_total) * 100\n",
    "print(all_appointments_by_sms_percentage)"
   ]
  },
  {
   "cell_type": "markdown",
   "metadata": {},
   "source": [
    "Lets look at these percentages as a pie chart:"
   ]
  },
  {
   "cell_type": "code",
   "execution_count": 74,
   "metadata": {},
   "outputs": [
    {
     "data": {
      "image/png": "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\n",
      "text/plain": [
       "<matplotlib.figure.Figure at 0x7fe15e7c3e80>"
      ]
     },
     "metadata": {},
     "output_type": "display_data"
    }
   ],
   "source": [
    "labels = 'Not Received', 'Received'\n",
    "explode = (0.1, 0)  # explode 1st slice\n",
    " \n",
    "# Plot\n",
    "plt.pie(all_appointments_by_sms_percentage, explode=explode, labels=labels, \n",
    "        autopct='%1.1f%%', shadow=True, startangle=140)\n",
    "plt.title('Percentage all appoinments which received SMS reminder')\n",
    "plt.axis('equal')\n",
    "plt.show()"
   ]
  },
  {
   "cell_type": "markdown",
   "metadata": {},
   "source": [
    "Ok so only around 32% of all appointments do get an SMS, and 67% don't get an SMS\n",
    "\n",
    "So for all those that don't get an SMS, what is the number of shows v no-shows?"
   ]
  },
  {
   "cell_type": "code",
   "execution_count": 75,
   "metadata": {},
   "outputs": [
    {
     "name": "stdout",
     "output_type": "stream",
     "text": [
      "(72402, 14)\n",
      "no-show\n",
      "No     60290\n",
      "Yes    12112\n",
      "dtype: int64\n"
     ]
    }
   ],
   "source": [
    "all_appointments_no_sms = all_appointments[all_appointments['sms_received'] == 0]\n",
    "print(all_appointments_no_sms.shape)\n",
    "all_appointments_no_sms_byshows = all_appointments_no_sms.groupby(['no-show'], as_index=False).size()\n",
    "print(all_appointments_no_sms_byshows)"
   ]
  },
  {
   "cell_type": "markdown",
   "metadata": {},
   "source": [
    "Lets now convert this to a percentage to make comparison easier"
   ]
  },
  {
   "cell_type": "code",
   "execution_count": 76,
   "metadata": {},
   "outputs": [
    {
     "name": "stdout",
     "output_type": "stream",
     "text": [
      "no-show\n",
      "No     83.27118\n",
      "Yes    16.72882\n",
      "dtype: float64\n"
     ]
    }
   ],
   "source": [
    "all_appointments_no_sms_byshows_percentage = (all_appointments_no_sms_byshows / all_appointments_by_sms[0]) * 100\n",
    "print(all_appointments_no_sms_byshows_percentage)"
   ]
  },
  {
   "cell_type": "markdown",
   "metadata": {},
   "source": [
    "Lets look at these percentages as a pie chart:"
   ]
  },
  {
   "cell_type": "code",
   "execution_count": 77,
   "metadata": {},
   "outputs": [
    {
     "data": {
      "image/png": "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\n",
      "text/plain": [
       "<matplotlib.figure.Figure at 0x7fe15e7e4198>"
      ]
     },
     "metadata": {},
     "output_type": "display_data"
    }
   ],
   "source": [
    "labels = 'Shows', 'No Shows'\n",
    "colors = ['lightskyblue', 'lightcoral']\n",
    "explode = (0.1, 0)  # explode 1st slice\n",
    " \n",
    "# Plot\n",
    "plt.pie(all_appointments_no_sms_byshows_percentage, explode=explode, labels=labels, colors=colors,\n",
    "        autopct='%1.1f%%', shadow=True, startangle=140)\n",
    "plt.title('Percentage of shows v no-show appointments for those that did not receive an SMS')\n",
    "plt.axis('equal')\n",
    "plt.show()"
   ]
  },
  {
   "cell_type": "markdown",
   "metadata": {},
   "source": [
    "So for those that did'nt get an SMS: around 16% did'nt turn up.\n",
    "\n",
    "Lets now look at those that DID get an SMS reminder, what is the number of shows v no-shows?"
   ]
  },
  {
   "cell_type": "code",
   "execution_count": 78,
   "metadata": {},
   "outputs": [
    {
     "name": "stdout",
     "output_type": "stream",
     "text": [
      "(34585, 14)\n",
      "no-show\n",
      "No     25017\n",
      "Yes     9568\n",
      "dtype: int64\n"
     ]
    }
   ],
   "source": [
    "all_appointments_got_sms = all_appointments[all_appointments['sms_received'] == 1]\n",
    "print(all_appointments_got_sms.shape)\n",
    "all_appointments_got_sms_byshows = all_appointments_got_sms.groupby(['no-show'], as_index=False).size()\n",
    "print(all_appointments_got_sms_byshows)"
   ]
  },
  {
   "cell_type": "markdown",
   "metadata": {},
   "source": [
    "Lets now convert this to a percentage to make comparison easier"
   ]
  },
  {
   "cell_type": "code",
   "execution_count": 79,
   "metadata": {},
   "outputs": [
    {
     "name": "stdout",
     "output_type": "stream",
     "text": [
      "no-show\n",
      "No     72.334827\n",
      "Yes    27.665173\n",
      "dtype: float64\n"
     ]
    }
   ],
   "source": [
    "all_appointments_got_sms_byshows_percentage = (all_appointments_got_sms_byshows / all_appointments_by_sms[1]) * 100\n",
    "print(all_appointments_got_sms_byshows_percentage)"
   ]
  },
  {
   "cell_type": "markdown",
   "metadata": {},
   "source": [
    "Lets look at these percentages as a pie chart:"
   ]
  },
  {
   "cell_type": "code",
   "execution_count": 80,
   "metadata": {},
   "outputs": [
    {
     "data": {
      "image/png": "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\n",
      "text/plain": [
       "<matplotlib.figure.Figure at 0x7fe15ea86198>"
      ]
     },
     "metadata": {},
     "output_type": "display_data"
    }
   ],
   "source": [
    "labels = 'Shows', 'No Shows'\n",
    "colors = ['lightskyblue', 'lightcoral']\n",
    "explode = (0.1, 0)  # explode 1st slice\n",
    " \n",
    "# Plot\n",
    "plt.pie(all_appointments_got_sms_byshows_percentage, explode=explode, labels=labels, colors=colors,\n",
    "        autopct='%1.1f%%', shadow=True, startangle=140)\n",
    "plt.title('Percentage of shows v no-show appointments for those that did receive an SMS')\n",
    "plt.axis('equal')\n",
    "plt.show()"
   ]
  },
  {
   "cell_type": "markdown",
   "metadata": {},
   "source": [
    "So for those that DID get an SMS: around 27% did'nt turn up. \n",
    "\n",
    "#### This is a very surprising result - the data seems to suggest that getting an SMS reminder seems to actually INCREASE the likelihood of No-shows! If anything one would have expected the opposite. This surprising result caused me to triple-check my analysis but it seems correct based on the data.\n",
    "\n",
    "We can see this surprising result more clearly with a bar chart comparison:"
   ]
  },
  {
   "cell_type": "code",
   "execution_count": 81,
   "metadata": {},
   "outputs": [
    {
     "data": {
      "text/plain": [
       "<matplotlib.legend.Legend at 0x7fe15e9a6208>"
      ]
     },
     "execution_count": 81,
     "metadata": {},
     "output_type": "execute_result"
    },
    {
     "data": {
      "image/png": "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\n",
      "text/plain": [
       "<matplotlib.figure.Figure at 0x7fe15ea40160>"
      ]
     },
     "metadata": {},
     "output_type": "display_data"
    }
   ],
   "source": [
    "# plot bars\n",
    "got_sms_bars = plt.bar(ind, all_appointments_got_sms_byshows_percentage, width, color='y', alpha=.7, label='Received SMS')\n",
    "no_sms_bars = plt.bar(ind + width, all_appointments_no_sms_byshows_percentage, width, color='g', alpha=.7, label='Did not receive SMS')\n",
    "\n",
    "# title and labels\n",
    "plt.ylabel('Pecentage appointments')\n",
    "plt.xlabel('Showed up status')\n",
    "plt.title('Percentage of appointments by SMS received')\n",
    "locations = ind + width / 2  # xtick locations\n",
    "labels = ['Shows', 'No-Shows']  # xtick labels\n",
    "plt.xticks(locations, labels)\n",
    "\n",
    "# legend\n",
    "plt.legend()"
   ]
  },
  {
   "cell_type": "markdown",
   "metadata": {},
   "source": [
    "#### Surprising at it may seem, that data seems to indicate that getting an SMS reminder actually increases the likelihood of No-shows!"
   ]
  },
  {
   "cell_type": "markdown",
   "metadata": {},
   "source": [
    "<a id='conclusions'></a>\n",
    "## Conclusions"
   ]
  },
  {
   "cell_type": "markdown",
   "metadata": {},
   "source": [
    "Let us summarise the answers we have found to our questions.\n",
    "\n",
    "### 1. What are the proportion of no-show appointments?\n",
    "\n",
    "We discovered that around 20% of appointments made seem to result in no-shows.\n",
    "\n",
    "### 2. Does gender effect no shows?\n",
    "\n",
    "Our analysis showed that gender appears to have no significant effect on no-shows.\n",
    "\n",
    "### 3. Does age effect no shows?\n",
    "\n",
    "The data seemed to indicate that there may be a relationship between age and no-shows, that younger people are more likely to no-show, and in particular, thosed aged under 40 are more likely to no-show that those over 40.\n",
    "\n",
    "### 4. Does getting an SMS appointment reminder effect no shows?\n",
    "\n",
    "The analysis seemed to indicate the most surprising result of all in this study - that SMS reminders and showing up for appointments appear to have a negative correlation i.e. that getting an SMS appointment reminder increased the likelihood of a no-show.\n",
    "\n",
    "### General points\n",
    "It should be emphasised that these conclusions are tentative for several reasons:\n",
    "\n",
    "- While potential relationships are suggested between variables, we cannot conclusively say there is a causal relationship between any of the variables explored based on this analysis. This is particularly true given no statistical tests were applied or used.\n",
    "- The data is limited and this should be considered, especially in the case of the most surprising result to question 4 on the relationship between SMS reminders and no-shows. It should be noted in that analysis that the number of appointments that got SMS reminders was a small sub-set of the total appointments (around 32% of around 100k appointments), and the further sub-sets of those who showed/no-showed were even smaller. Especially given the counter-intuitive nature of that result, one should take particular care in interpreting that result! \n",
    "\n",
    "Certainly from my personal point of view, the SMS reminder result was the most facinating and unexpected result. Yet given the limited data and analysis - would warrant a very interesting feature to study with bigger data sets and statistical tests to explore further this most counter-intuitive result!\n",
    "\n",
    "Perhaps a bit early for the Brazillian medical practice to cancel their SMS reminders, just yet... :-)"
   ]
  },
  {
   "cell_type": "code",
   "execution_count": 82,
   "metadata": {},
   "outputs": [
    {
     "data": {
      "text/plain": [
       "0"
      ]
     },
     "execution_count": 82,
     "metadata": {},
     "output_type": "execute_result"
    }
   ],
  }
 ],
 "metadata": {
  "kernelspec": {
   "display_name": "Python 3",
   "language": "python",
   "name": "python3"
  },
  "language_info": {
   "codemirror_mode": {
    "name": "ipython",
    "version": 3
   },
   "file_extension": ".py",
   "mimetype": "text/x-python",
   "name": "python",
   "nbconvert_exporter": "python",
   "pygments_lexer": "ipython3",
   "version": "3.6.3"
  }
 },
 "nbformat": 4,
 "nbformat_minor": 2
}
